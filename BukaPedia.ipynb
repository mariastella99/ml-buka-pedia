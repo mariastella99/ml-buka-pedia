{
  "nbformat": 4,
  "nbformat_minor": 0,
  "metadata": {
    "colab": {
      "provenance": [],
      "collapsed_sections": [
        "4i91JqAbqxcA",
        "WYXYyFcnq5bh",
        "r7ufW7Jmom39"
      ]
    },
    "kernelspec": {
      "name": "python3",
      "display_name": "Python 3"
    },
    "language_info": {
      "name": "python"
    }
  },
  "cells": [
    {
      "cell_type": "markdown",
      "source": [
        "## **Data Prepocessing**\n",
        "\n",
        "---\n",
        "\n"
      ],
      "metadata": {
        "id": "4i91JqAbqxcA"
      }
    },
    {
      "cell_type": "code",
      "execution_count": null,
      "metadata": {
        "colab": {
          "base_uri": "https://localhost:8080/",
          "height": 74
        },
        "id": "o1ZOxHU6qhbt",
        "outputId": "31c8c18d-65ae-406a-b358-b9128021b111"
      },
      "outputs": [
        {
          "output_type": "display_data",
          "data": {
            "text/plain": [
              "<IPython.core.display.HTML object>"
            ],
            "text/html": [
              "\n",
              "     <input type=\"file\" id=\"files-d2e09ea2-70e3-4abf-9f86-9e839f7572dc\" name=\"files[]\" multiple disabled\n",
              "        style=\"border:none\" />\n",
              "     <output id=\"result-d2e09ea2-70e3-4abf-9f86-9e839f7572dc\">\n",
              "      Upload widget is only available when the cell has been executed in the\n",
              "      current browser session. Please rerun this cell to enable.\n",
              "      </output>\n",
              "      <script>// Copyright 2017 Google LLC\n",
              "//\n",
              "// Licensed under the Apache License, Version 2.0 (the \"License\");\n",
              "// you may not use this file except in compliance with the License.\n",
              "// You may obtain a copy of the License at\n",
              "//\n",
              "//      http://www.apache.org/licenses/LICENSE-2.0\n",
              "//\n",
              "// Unless required by applicable law or agreed to in writing, software\n",
              "// distributed under the License is distributed on an \"AS IS\" BASIS,\n",
              "// WITHOUT WARRANTIES OR CONDITIONS OF ANY KIND, either express or implied.\n",
              "// See the License for the specific language governing permissions and\n",
              "// limitations under the License.\n",
              "\n",
              "/**\n",
              " * @fileoverview Helpers for google.colab Python module.\n",
              " */\n",
              "(function(scope) {\n",
              "function span(text, styleAttributes = {}) {\n",
              "  const element = document.createElement('span');\n",
              "  element.textContent = text;\n",
              "  for (const key of Object.keys(styleAttributes)) {\n",
              "    element.style[key] = styleAttributes[key];\n",
              "  }\n",
              "  return element;\n",
              "}\n",
              "\n",
              "// Max number of bytes which will be uploaded at a time.\n",
              "const MAX_PAYLOAD_SIZE = 100 * 1024;\n",
              "\n",
              "function _uploadFiles(inputId, outputId) {\n",
              "  const steps = uploadFilesStep(inputId, outputId);\n",
              "  const outputElement = document.getElementById(outputId);\n",
              "  // Cache steps on the outputElement to make it available for the next call\n",
              "  // to uploadFilesContinue from Python.\n",
              "  outputElement.steps = steps;\n",
              "\n",
              "  return _uploadFilesContinue(outputId);\n",
              "}\n",
              "\n",
              "// This is roughly an async generator (not supported in the browser yet),\n",
              "// where there are multiple asynchronous steps and the Python side is going\n",
              "// to poll for completion of each step.\n",
              "// This uses a Promise to block the python side on completion of each step,\n",
              "// then passes the result of the previous step as the input to the next step.\n",
              "function _uploadFilesContinue(outputId) {\n",
              "  const outputElement = document.getElementById(outputId);\n",
              "  const steps = outputElement.steps;\n",
              "\n",
              "  const next = steps.next(outputElement.lastPromiseValue);\n",
              "  return Promise.resolve(next.value.promise).then((value) => {\n",
              "    // Cache the last promise value to make it available to the next\n",
              "    // step of the generator.\n",
              "    outputElement.lastPromiseValue = value;\n",
              "    return next.value.response;\n",
              "  });\n",
              "}\n",
              "\n",
              "/**\n",
              " * Generator function which is called between each async step of the upload\n",
              " * process.\n",
              " * @param {string} inputId Element ID of the input file picker element.\n",
              " * @param {string} outputId Element ID of the output display.\n",
              " * @return {!Iterable<!Object>} Iterable of next steps.\n",
              " */\n",
              "function* uploadFilesStep(inputId, outputId) {\n",
              "  const inputElement = document.getElementById(inputId);\n",
              "  inputElement.disabled = false;\n",
              "\n",
              "  const outputElement = document.getElementById(outputId);\n",
              "  outputElement.innerHTML = '';\n",
              "\n",
              "  const pickedPromise = new Promise((resolve) => {\n",
              "    inputElement.addEventListener('change', (e) => {\n",
              "      resolve(e.target.files);\n",
              "    });\n",
              "  });\n",
              "\n",
              "  const cancel = document.createElement('button');\n",
              "  inputElement.parentElement.appendChild(cancel);\n",
              "  cancel.textContent = 'Cancel upload';\n",
              "  const cancelPromise = new Promise((resolve) => {\n",
              "    cancel.onclick = () => {\n",
              "      resolve(null);\n",
              "    };\n",
              "  });\n",
              "\n",
              "  // Wait for the user to pick the files.\n",
              "  const files = yield {\n",
              "    promise: Promise.race([pickedPromise, cancelPromise]),\n",
              "    response: {\n",
              "      action: 'starting',\n",
              "    }\n",
              "  };\n",
              "\n",
              "  cancel.remove();\n",
              "\n",
              "  // Disable the input element since further picks are not allowed.\n",
              "  inputElement.disabled = true;\n",
              "\n",
              "  if (!files) {\n",
              "    return {\n",
              "      response: {\n",
              "        action: 'complete',\n",
              "      }\n",
              "    };\n",
              "  }\n",
              "\n",
              "  for (const file of files) {\n",
              "    const li = document.createElement('li');\n",
              "    li.append(span(file.name, {fontWeight: 'bold'}));\n",
              "    li.append(span(\n",
              "        `(${file.type || 'n/a'}) - ${file.size} bytes, ` +\n",
              "        `last modified: ${\n",
              "            file.lastModifiedDate ? file.lastModifiedDate.toLocaleDateString() :\n",
              "                                    'n/a'} - `));\n",
              "    const percent = span('0% done');\n",
              "    li.appendChild(percent);\n",
              "\n",
              "    outputElement.appendChild(li);\n",
              "\n",
              "    const fileDataPromise = new Promise((resolve) => {\n",
              "      const reader = new FileReader();\n",
              "      reader.onload = (e) => {\n",
              "        resolve(e.target.result);\n",
              "      };\n",
              "      reader.readAsArrayBuffer(file);\n",
              "    });\n",
              "    // Wait for the data to be ready.\n",
              "    let fileData = yield {\n",
              "      promise: fileDataPromise,\n",
              "      response: {\n",
              "        action: 'continue',\n",
              "      }\n",
              "    };\n",
              "\n",
              "    // Use a chunked sending to avoid message size limits. See b/62115660.\n",
              "    let position = 0;\n",
              "    do {\n",
              "      const length = Math.min(fileData.byteLength - position, MAX_PAYLOAD_SIZE);\n",
              "      const chunk = new Uint8Array(fileData, position, length);\n",
              "      position += length;\n",
              "\n",
              "      const base64 = btoa(String.fromCharCode.apply(null, chunk));\n",
              "      yield {\n",
              "        response: {\n",
              "          action: 'append',\n",
              "          file: file.name,\n",
              "          data: base64,\n",
              "        },\n",
              "      };\n",
              "\n",
              "      let percentDone = fileData.byteLength === 0 ?\n",
              "          100 :\n",
              "          Math.round((position / fileData.byteLength) * 100);\n",
              "      percent.textContent = `${percentDone}% done`;\n",
              "\n",
              "    } while (position < fileData.byteLength);\n",
              "  }\n",
              "\n",
              "  // All done.\n",
              "  yield {\n",
              "    response: {\n",
              "      action: 'complete',\n",
              "    }\n",
              "  };\n",
              "}\n",
              "\n",
              "scope.google = scope.google || {};\n",
              "scope.google.colab = scope.google.colab || {};\n",
              "scope.google.colab._files = {\n",
              "  _uploadFiles,\n",
              "  _uploadFilesContinue,\n",
              "};\n",
              "})(self);\n",
              "</script> "
            ]
          },
          "metadata": {}
        },
        {
          "output_type": "stream",
          "name": "stdout",
          "text": [
            "Saving bukapedia.csv to bukapedia (1).csv\n"
          ]
        }
      ],
      "source": [
        "#Import Data\n",
        "from google.colab import files\n",
        "uploaded = files.upload()"
      ]
    },
    {
      "cell_type": "code",
      "source": [
        "#Import Library\n",
        "import pandas as pd\n",
        "import numpy as np\n",
        "import seaborn as sns\n",
        "import matplotlib.pyplot as plt\n",
        "import io\n",
        "from sklearn.preprocessing import LabelEncoder\n",
        "from sklearn.preprocessing import MinMaxScaler, StandardScaler\n",
        "from sklearn.feature_selection import SelectKBest, chi2\n",
        "from sklearn.model_selection import train_test_split\n",
        "from sklearn.linear_model import LogisticRegression\n",
        "from sklearn.neighbors import KNeighborsClassifier\n",
        "from sklearn.tree import DecisionTreeClassifier\n",
        "from sklearn.ensemble import RandomForestClassifier\n",
        "from sklearn.ensemble import GradientBoostingClassifier\n",
        "from sklearn.metrics import confusion_matrix, classification_report, accuracy_score\n",
        "from sklearn.model_selection import KFold, cross_val_score"
      ],
      "metadata": {
        "id": "wv5MxonxrcrU"
      },
      "execution_count": null,
      "outputs": []
    },
    {
      "cell_type": "code",
      "source": [
        "#Load Data\n",
        "df = pd.read_csv(io.BytesIO(uploaded['bukapedia.csv']))\n",
        "df.head()"
      ],
      "metadata": {
        "colab": {
          "base_uri": "https://localhost:8080/",
          "height": 860
        },
        "id": "JuQdwjQKrnvv",
        "outputId": "dbbf4e47-d6bf-4827-862d-11b4f7749e38"
      },
      "execution_count": null,
      "outputs": [
        {
          "output_type": "execute_result",
          "data": {
            "text/plain": [
              "         category          city  gold_merchant  \\\n",
              "0  Fashion Wanita  Kota Bandung           True   \n",
              "1  Fashion Wanita  Kota Bandung           True   \n",
              "2  Fashion Wanita       Jakarta          False   \n",
              "3  Fashion Wanita  Kota Bandung           True   \n",
              "4  Fashion Wanita  Kota Bandung           True   \n",
              "\n",
              "                                           image_url  jumlah_review  \\\n",
              "0  https://ecs7.tokopedia.net/img/cache/200-squar...            954   \n",
              "1  https://ecs7.tokopedia.net/img/cache/200-squar...            761   \n",
              "2  https://ecs7.tokopedia.net/img/cache/200-squar...            439   \n",
              "3  https://ecs7.tokopedia.net/img/cache/200-squar...            909   \n",
              "4  https://ecs7.tokopedia.net/img/cache/200-squar...            614   \n",
              "\n",
              "  jumlah_view      location  presentase_diskon  price  product_id  \\\n",
              "0           0  Kota Bandung                  0  55000   284008675   \n",
              "1           0  Kota Bandung                  0  65000   283976385   \n",
              "2           0       Jakarta                  0  59000   316717554   \n",
              "3           0  Kota Bandung                  0  59000   270887764   \n",
              "4           0  Kota Bandung                  0  55000   284010469   \n",
              "\n",
              "   quantity_sold  rating   shop_name subcategory  \\\n",
              "0              0       5    Openshop      Blouse   \n",
              "1              0       5    Openshop      Blouse   \n",
              "2              0       5  joZFashion      Piyama   \n",
              "3              0       5    Openshop      Blouse   \n",
              "4              0       5    Openshop      Blouse   \n",
              "\n",
              "                                               title  \\\n",
              "0  Baju Atasan Blouse Wanita Baju Muslim Blus Mus...   \n",
              "1  Baju Atasan Wanita Magali Tunik Blouse Baju Mu...   \n",
              "2   Piyama Black Cat Daster Baju Tidur Wanita Dewasa   \n",
              "3  Tunik Atasan Wanita Blouse Baju Muslim Blus Mu...   \n",
              "4  Atasan Wanita Ellena Peplum Blouse Tunik Baju ...   \n",
              "\n",
              "                                                 url  \n",
              "0  https://www.tokopedia.com/openols/baju-atasan-...  \n",
              "1  https://www.tokopedia.com/openols/baju-atasan-...  \n",
              "2  https://www.tokopedia.com/wjozfashion/piyama-b...  \n",
              "3  https://www.tokopedia.com/openols/tunik-atasan...  \n",
              "4  https://www.tokopedia.com/openols/atasan-wanit...  "
            ],
            "text/html": [
              "\n",
              "  <div id=\"df-914f0508-b9eb-49fd-b062-d968cc1353ba\">\n",
              "    <div class=\"colab-df-container\">\n",
              "      <div>\n",
              "<style scoped>\n",
              "    .dataframe tbody tr th:only-of-type {\n",
              "        vertical-align: middle;\n",
              "    }\n",
              "\n",
              "    .dataframe tbody tr th {\n",
              "        vertical-align: top;\n",
              "    }\n",
              "\n",
              "    .dataframe thead th {\n",
              "        text-align: right;\n",
              "    }\n",
              "</style>\n",
              "<table border=\"1\" class=\"dataframe\">\n",
              "  <thead>\n",
              "    <tr style=\"text-align: right;\">\n",
              "      <th></th>\n",
              "      <th>category</th>\n",
              "      <th>city</th>\n",
              "      <th>gold_merchant</th>\n",
              "      <th>image_url</th>\n",
              "      <th>jumlah_review</th>\n",
              "      <th>jumlah_view</th>\n",
              "      <th>location</th>\n",
              "      <th>presentase_diskon</th>\n",
              "      <th>price</th>\n",
              "      <th>product_id</th>\n",
              "      <th>quantity_sold</th>\n",
              "      <th>rating</th>\n",
              "      <th>shop_name</th>\n",
              "      <th>subcategory</th>\n",
              "      <th>title</th>\n",
              "      <th>url</th>\n",
              "    </tr>\n",
              "  </thead>\n",
              "  <tbody>\n",
              "    <tr>\n",
              "      <th>0</th>\n",
              "      <td>Fashion Wanita</td>\n",
              "      <td>Kota Bandung</td>\n",
              "      <td>True</td>\n",
              "      <td>https://ecs7.tokopedia.net/img/cache/200-squar...</td>\n",
              "      <td>954</td>\n",
              "      <td>0</td>\n",
              "      <td>Kota Bandung</td>\n",
              "      <td>0</td>\n",
              "      <td>55000</td>\n",
              "      <td>284008675</td>\n",
              "      <td>0</td>\n",
              "      <td>5</td>\n",
              "      <td>Openshop</td>\n",
              "      <td>Blouse</td>\n",
              "      <td>Baju Atasan Blouse Wanita Baju Muslim Blus Mus...</td>\n",
              "      <td>https://www.tokopedia.com/openols/baju-atasan-...</td>\n",
              "    </tr>\n",
              "    <tr>\n",
              "      <th>1</th>\n",
              "      <td>Fashion Wanita</td>\n",
              "      <td>Kota Bandung</td>\n",
              "      <td>True</td>\n",
              "      <td>https://ecs7.tokopedia.net/img/cache/200-squar...</td>\n",
              "      <td>761</td>\n",
              "      <td>0</td>\n",
              "      <td>Kota Bandung</td>\n",
              "      <td>0</td>\n",
              "      <td>65000</td>\n",
              "      <td>283976385</td>\n",
              "      <td>0</td>\n",
              "      <td>5</td>\n",
              "      <td>Openshop</td>\n",
              "      <td>Blouse</td>\n",
              "      <td>Baju Atasan Wanita Magali Tunik Blouse Baju Mu...</td>\n",
              "      <td>https://www.tokopedia.com/openols/baju-atasan-...</td>\n",
              "    </tr>\n",
              "    <tr>\n",
              "      <th>2</th>\n",
              "      <td>Fashion Wanita</td>\n",
              "      <td>Jakarta</td>\n",
              "      <td>False</td>\n",
              "      <td>https://ecs7.tokopedia.net/img/cache/200-squar...</td>\n",
              "      <td>439</td>\n",
              "      <td>0</td>\n",
              "      <td>Jakarta</td>\n",
              "      <td>0</td>\n",
              "      <td>59000</td>\n",
              "      <td>316717554</td>\n",
              "      <td>0</td>\n",
              "      <td>5</td>\n",
              "      <td>joZFashion</td>\n",
              "      <td>Piyama</td>\n",
              "      <td>Piyama Black Cat Daster Baju Tidur Wanita Dewasa</td>\n",
              "      <td>https://www.tokopedia.com/wjozfashion/piyama-b...</td>\n",
              "    </tr>\n",
              "    <tr>\n",
              "      <th>3</th>\n",
              "      <td>Fashion Wanita</td>\n",
              "      <td>Kota Bandung</td>\n",
              "      <td>True</td>\n",
              "      <td>https://ecs7.tokopedia.net/img/cache/200-squar...</td>\n",
              "      <td>909</td>\n",
              "      <td>0</td>\n",
              "      <td>Kota Bandung</td>\n",
              "      <td>0</td>\n",
              "      <td>59000</td>\n",
              "      <td>270887764</td>\n",
              "      <td>0</td>\n",
              "      <td>5</td>\n",
              "      <td>Openshop</td>\n",
              "      <td>Blouse</td>\n",
              "      <td>Tunik Atasan Wanita Blouse Baju Muslim Blus Mu...</td>\n",
              "      <td>https://www.tokopedia.com/openols/tunik-atasan...</td>\n",
              "    </tr>\n",
              "    <tr>\n",
              "      <th>4</th>\n",
              "      <td>Fashion Wanita</td>\n",
              "      <td>Kota Bandung</td>\n",
              "      <td>True</td>\n",
              "      <td>https://ecs7.tokopedia.net/img/cache/200-squar...</td>\n",
              "      <td>614</td>\n",
              "      <td>0</td>\n",
              "      <td>Kota Bandung</td>\n",
              "      <td>0</td>\n",
              "      <td>55000</td>\n",
              "      <td>284010469</td>\n",
              "      <td>0</td>\n",
              "      <td>5</td>\n",
              "      <td>Openshop</td>\n",
              "      <td>Blouse</td>\n",
              "      <td>Atasan Wanita Ellena Peplum Blouse Tunik Baju ...</td>\n",
              "      <td>https://www.tokopedia.com/openols/atasan-wanit...</td>\n",
              "    </tr>\n",
              "  </tbody>\n",
              "</table>\n",
              "</div>\n",
              "      <button class=\"colab-df-convert\" onclick=\"convertToInteractive('df-914f0508-b9eb-49fd-b062-d968cc1353ba')\"\n",
              "              title=\"Convert this dataframe to an interactive table.\"\n",
              "              style=\"display:none;\">\n",
              "        \n",
              "  <svg xmlns=\"http://www.w3.org/2000/svg\" height=\"24px\"viewBox=\"0 0 24 24\"\n",
              "       width=\"24px\">\n",
              "    <path d=\"M0 0h24v24H0V0z\" fill=\"none\"/>\n",
              "    <path d=\"M18.56 5.44l.94 2.06.94-2.06 2.06-.94-2.06-.94-.94-2.06-.94 2.06-2.06.94zm-11 1L8.5 8.5l.94-2.06 2.06-.94-2.06-.94L8.5 2.5l-.94 2.06-2.06.94zm10 10l.94 2.06.94-2.06 2.06-.94-2.06-.94-.94-2.06-.94 2.06-2.06.94z\"/><path d=\"M17.41 7.96l-1.37-1.37c-.4-.4-.92-.59-1.43-.59-.52 0-1.04.2-1.43.59L10.3 9.45l-7.72 7.72c-.78.78-.78 2.05 0 2.83L4 21.41c.39.39.9.59 1.41.59.51 0 1.02-.2 1.41-.59l7.78-7.78 2.81-2.81c.8-.78.8-2.07 0-2.86zM5.41 20L4 18.59l7.72-7.72 1.47 1.35L5.41 20z\"/>\n",
              "  </svg>\n",
              "      </button>\n",
              "      \n",
              "  <style>\n",
              "    .colab-df-container {\n",
              "      display:flex;\n",
              "      flex-wrap:wrap;\n",
              "      gap: 12px;\n",
              "    }\n",
              "\n",
              "    .colab-df-convert {\n",
              "      background-color: #E8F0FE;\n",
              "      border: none;\n",
              "      border-radius: 50%;\n",
              "      cursor: pointer;\n",
              "      display: none;\n",
              "      fill: #1967D2;\n",
              "      height: 32px;\n",
              "      padding: 0 0 0 0;\n",
              "      width: 32px;\n",
              "    }\n",
              "\n",
              "    .colab-df-convert:hover {\n",
              "      background-color: #E2EBFA;\n",
              "      box-shadow: 0px 1px 2px rgba(60, 64, 67, 0.3), 0px 1px 3px 1px rgba(60, 64, 67, 0.15);\n",
              "      fill: #174EA6;\n",
              "    }\n",
              "\n",
              "    [theme=dark] .colab-df-convert {\n",
              "      background-color: #3B4455;\n",
              "      fill: #D2E3FC;\n",
              "    }\n",
              "\n",
              "    [theme=dark] .colab-df-convert:hover {\n",
              "      background-color: #434B5C;\n",
              "      box-shadow: 0px 1px 3px 1px rgba(0, 0, 0, 0.15);\n",
              "      filter: drop-shadow(0px 1px 2px rgba(0, 0, 0, 0.3));\n",
              "      fill: #FFFFFF;\n",
              "    }\n",
              "  </style>\n",
              "\n",
              "      <script>\n",
              "        const buttonEl =\n",
              "          document.querySelector('#df-914f0508-b9eb-49fd-b062-d968cc1353ba button.colab-df-convert');\n",
              "        buttonEl.style.display =\n",
              "          google.colab.kernel.accessAllowed ? 'block' : 'none';\n",
              "\n",
              "        async function convertToInteractive(key) {\n",
              "          const element = document.querySelector('#df-914f0508-b9eb-49fd-b062-d968cc1353ba');\n",
              "          const dataTable =\n",
              "            await google.colab.kernel.invokeFunction('convertToInteractive',\n",
              "                                                     [key], {});\n",
              "          if (!dataTable) return;\n",
              "\n",
              "          const docLinkHtml = 'Like what you see? Visit the ' +\n",
              "            '<a target=\"_blank\" href=https://colab.research.google.com/notebooks/data_table.ipynb>data table notebook</a>'\n",
              "            + ' to learn more about interactive tables.';\n",
              "          element.innerHTML = '';\n",
              "          dataTable['output_type'] = 'display_data';\n",
              "          await google.colab.output.renderOutput(dataTable, element);\n",
              "          const docLink = document.createElement('div');\n",
              "          docLink.innerHTML = docLinkHtml;\n",
              "          element.appendChild(docLink);\n",
              "        }\n",
              "      </script>\n",
              "    </div>\n",
              "  </div>\n",
              "  "
            ]
          },
          "metadata": {},
          "execution_count": 564
        }
      ]
    },
    {
      "cell_type": "markdown",
      "source": [
        "### **Exploratory Data Analysis**\n",
        "\n",
        "---"
      ],
      "metadata": {
        "id": "Nqdew7YtrE1B"
      }
    },
    {
      "cell_type": "code",
      "source": [
        "df.info()"
      ],
      "metadata": {
        "colab": {
          "base_uri": "https://localhost:8080/"
        },
        "id": "VFD5zN2grEGJ",
        "outputId": "140401c6-b88d-416c-e1d1-823ae9fc150a"
      },
      "execution_count": null,
      "outputs": [
        {
          "output_type": "stream",
          "name": "stdout",
          "text": [
            "<class 'pandas.core.frame.DataFrame'>\n",
            "RangeIndex: 4503 entries, 0 to 4502\n",
            "Data columns (total 16 columns):\n",
            " #   Column             Non-Null Count  Dtype \n",
            "---  ------             --------------  ----- \n",
            " 0   category           4503 non-null   object\n",
            " 1   city               4503 non-null   object\n",
            " 2   gold_merchant      4503 non-null   bool  \n",
            " 3   image_url          4503 non-null   object\n",
            " 4   jumlah_review      4503 non-null   int64 \n",
            " 5   jumlah_view        4503 non-null   object\n",
            " 6   location           4503 non-null   object\n",
            " 7   presentase_diskon  4503 non-null   int64 \n",
            " 8   price              4503 non-null   int64 \n",
            " 9   product_id         4503 non-null   int64 \n",
            " 10  quantity_sold      4503 non-null   int64 \n",
            " 11  rating             4503 non-null   int64 \n",
            " 12  shop_name          4503 non-null   object\n",
            " 13  subcategory        4503 non-null   object\n",
            " 14  title              4503 non-null   object\n",
            " 15  url                4503 non-null   object\n",
            "dtypes: bool(1), int64(6), object(9)\n",
            "memory usage: 532.2+ KB\n"
          ]
        }
      ]
    },
    {
      "cell_type": "code",
      "source": [
        "df.describe()"
      ],
      "metadata": {
        "colab": {
          "base_uri": "https://localhost:8080/",
          "height": 300
        },
        "id": "Hq7gRumkr_Fh",
        "outputId": "19a607b8-6df9-4a23-c336-578713672ea2"
      },
      "execution_count": null,
      "outputs": [
        {
          "output_type": "execute_result",
          "data": {
            "text/plain": [
              "       jumlah_review  presentase_diskon         price    product_id  \\\n",
              "count    4503.000000             4503.0  4.503000e+03  4.503000e+03   \n",
              "mean       23.664446                0.0  9.780626e+04  2.822469e+08   \n",
              "std        71.927542                0.0  8.468117e+04  8.180762e+07   \n",
              "min         0.000000                0.0  7.500000e+03  1.432960e+06   \n",
              "25%         3.000000                0.0  5.490000e+04  2.434286e+08   \n",
              "50%         8.000000                0.0  7.800000e+04  3.025641e+08   \n",
              "75%        24.000000                0.0  1.190000e+05  3.510548e+08   \n",
              "max      1629.000000                0.0  2.200000e+06  3.761936e+08   \n",
              "\n",
              "       quantity_sold       rating  \n",
              "count    4503.000000  4503.000000  \n",
              "mean       69.367311     4.879636  \n",
              "std       252.428009     0.339455  \n",
              "min         0.000000     0.000000  \n",
              "25%         2.000000     5.000000  \n",
              "50%        12.000000     5.000000  \n",
              "75%        41.000000     5.000000  \n",
              "max      6401.000000     5.000000  "
            ],
            "text/html": [
              "\n",
              "  <div id=\"df-8feac674-9def-4f32-b768-e89b68c5738b\">\n",
              "    <div class=\"colab-df-container\">\n",
              "      <div>\n",
              "<style scoped>\n",
              "    .dataframe tbody tr th:only-of-type {\n",
              "        vertical-align: middle;\n",
              "    }\n",
              "\n",
              "    .dataframe tbody tr th {\n",
              "        vertical-align: top;\n",
              "    }\n",
              "\n",
              "    .dataframe thead th {\n",
              "        text-align: right;\n",
              "    }\n",
              "</style>\n",
              "<table border=\"1\" class=\"dataframe\">\n",
              "  <thead>\n",
              "    <tr style=\"text-align: right;\">\n",
              "      <th></th>\n",
              "      <th>jumlah_review</th>\n",
              "      <th>presentase_diskon</th>\n",
              "      <th>price</th>\n",
              "      <th>product_id</th>\n",
              "      <th>quantity_sold</th>\n",
              "      <th>rating</th>\n",
              "    </tr>\n",
              "  </thead>\n",
              "  <tbody>\n",
              "    <tr>\n",
              "      <th>count</th>\n",
              "      <td>4503.000000</td>\n",
              "      <td>4503.0</td>\n",
              "      <td>4.503000e+03</td>\n",
              "      <td>4.503000e+03</td>\n",
              "      <td>4503.000000</td>\n",
              "      <td>4503.000000</td>\n",
              "    </tr>\n",
              "    <tr>\n",
              "      <th>mean</th>\n",
              "      <td>23.664446</td>\n",
              "      <td>0.0</td>\n",
              "      <td>9.780626e+04</td>\n",
              "      <td>2.822469e+08</td>\n",
              "      <td>69.367311</td>\n",
              "      <td>4.879636</td>\n",
              "    </tr>\n",
              "    <tr>\n",
              "      <th>std</th>\n",
              "      <td>71.927542</td>\n",
              "      <td>0.0</td>\n",
              "      <td>8.468117e+04</td>\n",
              "      <td>8.180762e+07</td>\n",
              "      <td>252.428009</td>\n",
              "      <td>0.339455</td>\n",
              "    </tr>\n",
              "    <tr>\n",
              "      <th>min</th>\n",
              "      <td>0.000000</td>\n",
              "      <td>0.0</td>\n",
              "      <td>7.500000e+03</td>\n",
              "      <td>1.432960e+06</td>\n",
              "      <td>0.000000</td>\n",
              "      <td>0.000000</td>\n",
              "    </tr>\n",
              "    <tr>\n",
              "      <th>25%</th>\n",
              "      <td>3.000000</td>\n",
              "      <td>0.0</td>\n",
              "      <td>5.490000e+04</td>\n",
              "      <td>2.434286e+08</td>\n",
              "      <td>2.000000</td>\n",
              "      <td>5.000000</td>\n",
              "    </tr>\n",
              "    <tr>\n",
              "      <th>50%</th>\n",
              "      <td>8.000000</td>\n",
              "      <td>0.0</td>\n",
              "      <td>7.800000e+04</td>\n",
              "      <td>3.025641e+08</td>\n",
              "      <td>12.000000</td>\n",
              "      <td>5.000000</td>\n",
              "    </tr>\n",
              "    <tr>\n",
              "      <th>75%</th>\n",
              "      <td>24.000000</td>\n",
              "      <td>0.0</td>\n",
              "      <td>1.190000e+05</td>\n",
              "      <td>3.510548e+08</td>\n",
              "      <td>41.000000</td>\n",
              "      <td>5.000000</td>\n",
              "    </tr>\n",
              "    <tr>\n",
              "      <th>max</th>\n",
              "      <td>1629.000000</td>\n",
              "      <td>0.0</td>\n",
              "      <td>2.200000e+06</td>\n",
              "      <td>3.761936e+08</td>\n",
              "      <td>6401.000000</td>\n",
              "      <td>5.000000</td>\n",
              "    </tr>\n",
              "  </tbody>\n",
              "</table>\n",
              "</div>\n",
              "      <button class=\"colab-df-convert\" onclick=\"convertToInteractive('df-8feac674-9def-4f32-b768-e89b68c5738b')\"\n",
              "              title=\"Convert this dataframe to an interactive table.\"\n",
              "              style=\"display:none;\">\n",
              "        \n",
              "  <svg xmlns=\"http://www.w3.org/2000/svg\" height=\"24px\"viewBox=\"0 0 24 24\"\n",
              "       width=\"24px\">\n",
              "    <path d=\"M0 0h24v24H0V0z\" fill=\"none\"/>\n",
              "    <path d=\"M18.56 5.44l.94 2.06.94-2.06 2.06-.94-2.06-.94-.94-2.06-.94 2.06-2.06.94zm-11 1L8.5 8.5l.94-2.06 2.06-.94-2.06-.94L8.5 2.5l-.94 2.06-2.06.94zm10 10l.94 2.06.94-2.06 2.06-.94-2.06-.94-.94-2.06-.94 2.06-2.06.94z\"/><path d=\"M17.41 7.96l-1.37-1.37c-.4-.4-.92-.59-1.43-.59-.52 0-1.04.2-1.43.59L10.3 9.45l-7.72 7.72c-.78.78-.78 2.05 0 2.83L4 21.41c.39.39.9.59 1.41.59.51 0 1.02-.2 1.41-.59l7.78-7.78 2.81-2.81c.8-.78.8-2.07 0-2.86zM5.41 20L4 18.59l7.72-7.72 1.47 1.35L5.41 20z\"/>\n",
              "  </svg>\n",
              "      </button>\n",
              "      \n",
              "  <style>\n",
              "    .colab-df-container {\n",
              "      display:flex;\n",
              "      flex-wrap:wrap;\n",
              "      gap: 12px;\n",
              "    }\n",
              "\n",
              "    .colab-df-convert {\n",
              "      background-color: #E8F0FE;\n",
              "      border: none;\n",
              "      border-radius: 50%;\n",
              "      cursor: pointer;\n",
              "      display: none;\n",
              "      fill: #1967D2;\n",
              "      height: 32px;\n",
              "      padding: 0 0 0 0;\n",
              "      width: 32px;\n",
              "    }\n",
              "\n",
              "    .colab-df-convert:hover {\n",
              "      background-color: #E2EBFA;\n",
              "      box-shadow: 0px 1px 2px rgba(60, 64, 67, 0.3), 0px 1px 3px 1px rgba(60, 64, 67, 0.15);\n",
              "      fill: #174EA6;\n",
              "    }\n",
              "\n",
              "    [theme=dark] .colab-df-convert {\n",
              "      background-color: #3B4455;\n",
              "      fill: #D2E3FC;\n",
              "    }\n",
              "\n",
              "    [theme=dark] .colab-df-convert:hover {\n",
              "      background-color: #434B5C;\n",
              "      box-shadow: 0px 1px 3px 1px rgba(0, 0, 0, 0.15);\n",
              "      filter: drop-shadow(0px 1px 2px rgba(0, 0, 0, 0.3));\n",
              "      fill: #FFFFFF;\n",
              "    }\n",
              "  </style>\n",
              "\n",
              "      <script>\n",
              "        const buttonEl =\n",
              "          document.querySelector('#df-8feac674-9def-4f32-b768-e89b68c5738b button.colab-df-convert');\n",
              "        buttonEl.style.display =\n",
              "          google.colab.kernel.accessAllowed ? 'block' : 'none';\n",
              "\n",
              "        async function convertToInteractive(key) {\n",
              "          const element = document.querySelector('#df-8feac674-9def-4f32-b768-e89b68c5738b');\n",
              "          const dataTable =\n",
              "            await google.colab.kernel.invokeFunction('convertToInteractive',\n",
              "                                                     [key], {});\n",
              "          if (!dataTable) return;\n",
              "\n",
              "          const docLinkHtml = 'Like what you see? Visit the ' +\n",
              "            '<a target=\"_blank\" href=https://colab.research.google.com/notebooks/data_table.ipynb>data table notebook</a>'\n",
              "            + ' to learn more about interactive tables.';\n",
              "          element.innerHTML = '';\n",
              "          dataTable['output_type'] = 'display_data';\n",
              "          await google.colab.output.renderOutput(dataTable, element);\n",
              "          const docLink = document.createElement('div');\n",
              "          docLink.innerHTML = docLinkHtml;\n",
              "          element.appendChild(docLink);\n",
              "        }\n",
              "      </script>\n",
              "    </div>\n",
              "  </div>\n",
              "  "
            ]
          },
          "metadata": {},
          "execution_count": 566
        }
      ]
    },
    {
      "cell_type": "code",
      "source": [
        "df.columns"
      ],
      "metadata": {
        "colab": {
          "base_uri": "https://localhost:8080/"
        },
        "id": "9rJ_Ud7RtgfJ",
        "outputId": "74c536d2-d933-49a5-a705-e0734881cfb0"
      },
      "execution_count": null,
      "outputs": [
        {
          "output_type": "execute_result",
          "data": {
            "text/plain": [
              "Index(['category', 'city', 'gold_merchant', 'image_url', 'jumlah_review',\n",
              "       'jumlah_view', 'location', 'presentase_diskon', 'price', 'product_id',\n",
              "       'quantity_sold', 'rating', 'shop_name', 'subcategory', 'title', 'url'],\n",
              "      dtype='object')"
            ]
          },
          "metadata": {},
          "execution_count": 567
        }
      ]
    },
    {
      "cell_type": "code",
      "source": [
        "df.shape"
      ],
      "metadata": {
        "colab": {
          "base_uri": "https://localhost:8080/"
        },
        "id": "zqiytJI2sGh-",
        "outputId": "c02757fd-740e-41f6-f2d6-66ffc5df9043"
      },
      "execution_count": null,
      "outputs": [
        {
          "output_type": "execute_result",
          "data": {
            "text/plain": [
              "(4503, 16)"
            ]
          },
          "metadata": {},
          "execution_count": 568
        }
      ]
    },
    {
      "cell_type": "markdown",
      "source": [
        "### **Data Cleaning**\n",
        "\n",
        "---\n",
        "\n"
      ],
      "metadata": {
        "id": "hGr1jQs_rL-4"
      }
    },
    {
      "cell_type": "code",
      "source": [
        "#Check Missing Value\n",
        "df.isnull().values.any()"
      ],
      "metadata": {
        "colab": {
          "base_uri": "https://localhost:8080/"
        },
        "id": "J4SLs6RnsJ1W",
        "outputId": "beb1c976-1727-47ba-eaa4-1796c5c093be"
      },
      "execution_count": null,
      "outputs": [
        {
          "output_type": "execute_result",
          "data": {
            "text/plain": [
              "False"
            ]
          },
          "metadata": {},
          "execution_count": 576
        }
      ]
    },
    {
      "cell_type": "code",
      "source": [
        "df.isnull().sum()"
      ],
      "metadata": {
        "colab": {
          "base_uri": "https://localhost:8080/"
        },
        "id": "wQLQusLcDf-c",
        "outputId": "764f0c40-4fd3-40f7-b0b5-c36357b229c2"
      },
      "execution_count": null,
      "outputs": [
        {
          "output_type": "execute_result",
          "data": {
            "text/plain": [
              "category             0\n",
              "city                 0\n",
              "gold_merchant        0\n",
              "image_url            0\n",
              "jumlah_review        0\n",
              "jumlah_view          0\n",
              "location             0\n",
              "presentase_diskon    0\n",
              "price                0\n",
              "product_id           0\n",
              "quantity_sold        0\n",
              "rating               0\n",
              "shop_name            0\n",
              "subcategory          0\n",
              "title                0\n",
              "url                  0\n",
              "dtype: int64"
            ]
          },
          "metadata": {},
          "execution_count": 577
        }
      ]
    },
    {
      "cell_type": "code",
      "source": [
        "#Check Duplicated Data\n",
        "df.duplicated(subset='product_id').values.any()"
      ],
      "metadata": {
        "colab": {
          "base_uri": "https://localhost:8080/"
        },
        "id": "c1nw_EHGsl6S",
        "outputId": "deca0387-0493-4ce0-b048-5ea32b3c9a5f"
      },
      "execution_count": null,
      "outputs": [
        {
          "output_type": "execute_result",
          "data": {
            "text/plain": [
              "False"
            ]
          },
          "metadata": {},
          "execution_count": 578
        }
      ]
    },
    {
      "cell_type": "code",
      "source": [
        "df.duplicated(subset=['product_id','shop_name']).values.any()"
      ],
      "metadata": {
        "colab": {
          "base_uri": "https://localhost:8080/"
        },
        "id": "qv_BQI1sD2Y9",
        "outputId": "a607384f-a38d-4a70-9b6b-572686792e4d"
      },
      "execution_count": null,
      "outputs": [
        {
          "output_type": "execute_result",
          "data": {
            "text/plain": [
              "False"
            ]
          },
          "metadata": {},
          "execution_count": 579
        }
      ]
    },
    {
      "cell_type": "code",
      "source": [
        "#Check Unique Value --> Check Inconsistencies\n",
        "columns = ['category', 'city', 'gold_merchant', 'image_url', 'jumlah_review','jumlah_view', 'location', 'presentase_diskon', 'price', 'product_id','quantity_sold', 'rating', 'shop_name', 'subcategory', 'title', 'url']\n",
        "\n",
        "for column in columns:\n",
        "  print('Jumlah Data Unik dari Kolom', column)\n",
        "  print(df[column].nunique())"
      ],
      "metadata": {
        "colab": {
          "base_uri": "https://localhost:8080/"
        },
        "id": "ZBerMGrRtJyq",
        "outputId": "60209387-dd72-43eb-e6e2-228725e6e4d9"
      },
      "execution_count": null,
      "outputs": [
        {
          "output_type": "stream",
          "name": "stdout",
          "text": [
            "Jumlah Data Unik dari Kolom category\n",
            "1\n",
            "Jumlah Data Unik dari Kolom city\n",
            "53\n",
            "Jumlah Data Unik dari Kolom gold_merchant\n",
            "2\n",
            "Jumlah Data Unik dari Kolom image_url\n",
            "4486\n",
            "Jumlah Data Unik dari Kolom jumlah_review\n",
            "191\n",
            "Jumlah Data Unik dari Kolom jumlah_view\n",
            "306\n",
            "Jumlah Data Unik dari Kolom location\n",
            "53\n",
            "Jumlah Data Unik dari Kolom presentase_diskon\n",
            "1\n",
            "Jumlah Data Unik dari Kolom price\n",
            "789\n",
            "Jumlah Data Unik dari Kolom product_id\n",
            "4503\n",
            "Jumlah Data Unik dari Kolom quantity_sold\n",
            "331\n",
            "Jumlah Data Unik dari Kolom rating\n",
            "4\n",
            "Jumlah Data Unik dari Kolom shop_name\n",
            "900\n",
            "Jumlah Data Unik dari Kolom subcategory\n",
            "47\n",
            "Jumlah Data Unik dari Kolom title\n",
            "4296\n",
            "Jumlah Data Unik dari Kolom url\n",
            "4503\n"
          ]
        }
      ]
    },
    {
      "cell_type": "code",
      "source": [
        "df.dtypes"
      ],
      "metadata": {
        "colab": {
          "base_uri": "https://localhost:8080/"
        },
        "id": "ljwNUZnZR2kR",
        "outputId": "89113d56-a626-47b4-c1b8-f2aa54958bb1"
      },
      "execution_count": null,
      "outputs": [
        {
          "output_type": "execute_result",
          "data": {
            "text/plain": [
              "category             object\n",
              "city                 object\n",
              "gold_merchant          bool\n",
              "image_url            object\n",
              "jumlah_review         int64\n",
              "jumlah_view          object\n",
              "location             object\n",
              "presentase_diskon     int64\n",
              "price                 int64\n",
              "product_id            int64\n",
              "quantity_sold         int64\n",
              "rating                int64\n",
              "shop_name            object\n",
              "subcategory          object\n",
              "title                object\n",
              "url                  object\n",
              "dtype: object"
            ]
          },
          "metadata": {},
          "execution_count": 581
        }
      ]
    },
    {
      "cell_type": "code",
      "source": [
        "#Check Unique Value --> Check Inconsistencies\n",
        "\n",
        "columns = ['category','city','gold_merchant','jumlah_view','location','presentase_diskon','rating','subcategory']\n",
        "\n",
        "for column in columns:\n",
        "  print('\\nData Unik dari Kolom', column)\n",
        "  print(df[column].unique())"
      ],
      "metadata": {
        "colab": {
          "base_uri": "https://localhost:8080/"
        },
        "id": "hc4ZuKCct3Iu",
        "outputId": "38f37335-0500-4a6f-b35b-c17f477b338c"
      },
      "execution_count": null,
      "outputs": [
        {
          "output_type": "stream",
          "name": "stdout",
          "text": [
            "\n",
            "Data Unik dari Kolom category\n",
            "['Fashion Wanita']\n",
            "\n",
            "Data Unik dari Kolom city\n",
            "['Kota Bandung' 'Jakarta' 'Kota Surakarta' 'Kota Depok' 'Kota Tangerang'\n",
            " 'Kota Salatiga' 'Kota Tangerang Selatan' 'Kota Surabaya' 'Kab. Bekasi'\n",
            " 'Kab. Sukoharjo' 'Kota Bekasi' 'Kab. Bandung' 'Kota Pekalongan'\n",
            " 'Kota Malang' 'Kab. Banyumas' 'Kab. Pekalongan' 'Kab. Kudus'\n",
            " 'Kota Yogyakarta' 'Kota Cimahi' 'Kab. Garut' 'Kota Batu' 'Kab. Tangerang'\n",
            " 'Kab. Bandung Barat' 'Kab. Bogor' 'Kota Banjar' 'Kota Batam'\n",
            " 'Kab. Gianyar' 'Kota Bogor' 'Kab. Sidoarjo' 'Kota Medan' 'Kab. Jepara'\n",
            " 'Kab. Sleman' 'Kota Denpasar' 'Kab. Magetan' 'Kota Pasuruan'\n",
            " 'Kab. Klaten' 'Kota Kediri' 'Kab. Pandeglang' 'Kab. Blitar'\n",
            " 'Kab. Klungkung' 'Kab. Bojonegoro' 'Kab. Sumedang' 'Kab. Bantul'\n",
            " 'Kota Semarang' 'Kab. Malang' 'Kab. Ponorogo' 'Kab. Nganjuk'\n",
            " 'Kota Banjarmasin' 'Kab. Batang' 'Kab. Serang' 'Kab. Mojokerto'\n",
            " 'Kota Cirebon' 'Kab. Sukabumi']\n",
            "\n",
            "Data Unik dari Kolom gold_merchant\n",
            "[ True False]\n",
            "\n",
            "Data Unik dari Kolom jumlah_view\n",
            "['0' '668' '450' '373' '291' '67' '42' '2,400' '2,300' '1,700' '1,400'\n",
            " '1,100' '680' '660' '55' '53' '3,700' '3000' '2,500' '1,300' '1000' '997'\n",
            " '915' '757' '748' '348' '3,100' '2,800' '1,200' '362' '302' '1,600' '968'\n",
            " '936' '703' '664' '511' '493' '304' '276' '254' '2000' '1,900' '1,800'\n",
            " '978' '735' '701' '690' '530' '255' '11,500' '307' '2,600' '641' '14,100'\n",
            " '16,100' '4,300' '187' '615' '378' '374' '122' '8000' '5,200' '329'\n",
            " '7,700' '6,600' '25,300' '16,500' '882' '143' '7,400' '3,500' '797'\n",
            " '5,800' '5,900' '2,900' '7,600' '4,900' '6,100' '1,500' '889' '6,200'\n",
            " '6,300' '5,100' '275' '9,400' '11,100' '8,400' '114' '15,100' '11,800'\n",
            " '4,100' '16,800' '12,400' '8,800' '9,500' '3,200' '5,600' '20,900'\n",
            " '6,400' '14000' '3,900' '10,500' '7,500' '25,200' '15,800' '23,800'\n",
            " '6,700' '2,700' '22,100' '5,700' '9,600' '16,400' '24,800' '19,600'\n",
            " '21000' '18,500' '285' '74' '18,100' '13,600' '7,100' '22,800' '47,700'\n",
            " '44000' '20,200' '15,600' '261' '30,400' '18,800' '5000' '25000' '839'\n",
            " '819' '602' '446' '268' '654' '251' '7,900' '486' '346' '299' '219'\n",
            " '34,900' '11,700' '23,900' '43,100' '31,600' '12,600' '35,100' '28,900'\n",
            " '14,700' '4,200' '25,100' '10,700' '853' '586' '277' '26000' '294' '117'\n",
            " '69,100' '55,400' '90,600' '7000' '844' '822' '547' '308' '2,200' '927'\n",
            " '851' '382' '5,300' '482' '902' '722' '3,400' '650' '461' '907' '830'\n",
            " '601' '494' '432' '351' '319' '300' '213' '190' '177' '408' '26' '792'\n",
            " '663' '3,800' '776' '4,400' '854' '560' '8,500' '2,100' '804' '472' '848'\n",
            " '796' '758' '684' '479' '452' '303' '4000' '763' '3,300' '743' '9,200'\n",
            " '6000' '10,600' '8,100' '969' '946' '798' '778' '678' '545' '90' '71'\n",
            " '68' '65' '51' '48' '46' '43' '40' '32' '756' '3,600' '10,100' '4,700'\n",
            " '793' '667' '597' '509' '465' '364' '283' '264' '256' '198' '9000'\n",
            " '7,300' '681' '753' '542' '464' '421' '230' '708' '683' '540' '267'\n",
            " '12,700' '835' '652' '623' '471' '12,500' '786' '657' '4,500' '934' '849'\n",
            " '741' '693' '500' '4,800' '13,800' '872' '769' '656' '470' '6,500' '564'\n",
            " '5,400' '814' '608' '583' '496' '440' '33,800' '15,400' '504' '595' '812'\n",
            " '707' '984' '620' '599' '469' '940' '126' '519' '347' '498']\n",
            "\n",
            "Data Unik dari Kolom location\n",
            "['Kota Bandung' 'Jakarta' 'Kota Surakarta' 'Kota Depok' 'Kota Tangerang'\n",
            " 'Kota Salatiga' 'Kota Tangerang Selatan' 'Kota Surabaya' 'Kab. Bekasi'\n",
            " 'Kab. Sukoharjo' 'Kota Bekasi' 'Kab. Bandung' 'Kota Pekalongan'\n",
            " 'Kota Malang' 'Kab. Banyumas' 'Kab. Pekalongan' 'Kab. Kudus'\n",
            " 'Kota Yogyakarta' 'Kota Cimahi' 'Kab. Garut' 'Kota Batu' 'Kab. Tangerang'\n",
            " 'Kab. Bandung Barat' 'Kab. Bogor' 'Kota Banjar' 'Kota Batam'\n",
            " 'Kab. Gianyar' 'Kota Bogor' 'Kab. Sidoarjo' 'Kota Medan' 'Kab. Jepara'\n",
            " 'Kab. Sleman' 'Kota Denpasar' 'Kab. Magetan' 'Kota Pasuruan'\n",
            " 'Kab. Klaten' 'Kota Kediri' 'Kab. Pandeglang' 'Kab. Blitar'\n",
            " 'Kab. Klungkung' 'Kab. Bojonegoro' 'Kab. Sumedang' 'Kab. Bantul'\n",
            " 'Kota Semarang' 'Kab. Malang' 'Kab. Ponorogo' 'Kab. Nganjuk'\n",
            " 'Kota Banjarmasin' 'Kab. Batang' 'Kab. Serang' 'Kab. Mojokerto'\n",
            " 'Kota Cirebon' 'Kab. Sukabumi']\n",
            "\n",
            "Data Unik dari Kolom presentase_diskon\n",
            "[0]\n",
            "\n",
            "Data Unik dari Kolom rating\n",
            "[5 4 0 3]\n",
            "\n",
            "Data Unik dari Kolom subcategory\n",
            "['Blouse' 'Piyama' 'Celana Pendek' 'Blouse Batik' 'Kaos' 'Batik Couple'\n",
            " 'Jaket' 'Crop Top' 'Dress Batik' 'Celana Dalam' 'Jumpsuit' 'Kebaya'\n",
            " 'Cardigan' 'Lingerie' 'Maxi Dress' 'Kemeja' 'Midi Dress' 'Setelan'\n",
            " 'Tank Top' 'Blazer' 'Baju Couple' 'Mini Dress' 'Sweater' 'Vest' 'Daster'\n",
            " 'Jam Tangan Analog' 'Hoodie' 'Coat' 'BRA' 'Celana Panjang' 'Manekin'\n",
            " 'Bros' 'Legging' 'Rok Midi' 'Korset' 'G-String' 'Scarf & Shawl'\n",
            " 'Backpack' 'Celana Jeans' 'Polo Shirt' 'Rok Mini' 'Celana Tidur'\n",
            " 'Sneakers' 'Rok Maxi' 'Sandal' 'Kain Batik' 'Jam Tangan Digital']\n"
          ]
        }
      ]
    },
    {
      "cell_type": "code",
      "source": [
        "df['jumlah_view'] = pd.to_numeric(df['jumlah_view'].str.replace(',', ''))\n",
        "df['jumlah_view'].unique()"
      ],
      "metadata": {
        "colab": {
          "base_uri": "https://localhost:8080/"
        },
        "id": "Nq1I2p9mOjZR",
        "outputId": "4064e7eb-86cd-40d4-e27c-ab758cbf0062"
      },
      "execution_count": null,
      "outputs": [
        {
          "output_type": "execute_result",
          "data": {
            "text/plain": [
              "array([    0,   668,   450,   373,   291,    67,    42,  2400,  2300,\n",
              "        1700,  1400,  1100,   680,   660,    55,    53,  3700,  3000,\n",
              "        2500,  1300,  1000,   997,   915,   757,   748,   348,  3100,\n",
              "        2800,  1200,   362,   302,  1600,   968,   936,   703,   664,\n",
              "         511,   493,   304,   276,   254,  2000,  1900,  1800,   978,\n",
              "         735,   701,   690,   530,   255, 11500,   307,  2600,   641,\n",
              "       14100, 16100,  4300,   187,   615,   378,   374,   122,  8000,\n",
              "        5200,   329,  7700,  6600, 25300, 16500,   882,   143,  7400,\n",
              "        3500,   797,  5800,  5900,  2900,  7600,  4900,  6100,  1500,\n",
              "         889,  6200,  6300,  5100,   275,  9400, 11100,  8400,   114,\n",
              "       15100, 11800,  4100, 16800, 12400,  8800,  9500,  3200,  5600,\n",
              "       20900,  6400, 14000,  3900, 10500,  7500, 25200, 15800, 23800,\n",
              "        6700,  2700, 22100,  5700,  9600, 16400, 24800, 19600, 21000,\n",
              "       18500,   285,    74, 18100, 13600,  7100, 22800, 47700, 44000,\n",
              "       20200, 15600,   261, 30400, 18800,  5000, 25000,   839,   819,\n",
              "         602,   446,   268,   654,   251,  7900,   486,   346,   299,\n",
              "         219, 34900, 11700, 23900, 43100, 31600, 12600, 35100, 28900,\n",
              "       14700,  4200, 25100, 10700,   853,   586,   277, 26000,   294,\n",
              "         117, 69100, 55400, 90600,  7000,   844,   822,   547,   308,\n",
              "        2200,   927,   851,   382,  5300,   482,   902,   722,  3400,\n",
              "         650,   461,   907,   830,   601,   494,   432,   351,   319,\n",
              "         300,   213,   190,   177,   408,    26,   792,   663,  3800,\n",
              "         776,  4400,   854,   560,  8500,  2100,   804,   472,   848,\n",
              "         796,   758,   684,   479,   452,   303,  4000,   763,  3300,\n",
              "         743,  9200,  6000, 10600,  8100,   969,   946,   798,   778,\n",
              "         678,   545,    90,    71,    68,    65,    51,    48,    46,\n",
              "          43,    40,    32,   756,  3600, 10100,  4700,   793,   667,\n",
              "         597,   509,   465,   364,   283,   264,   256,   198,  9000,\n",
              "        7300,   681,   753,   542,   464,   421,   230,   708,   683,\n",
              "         540,   267, 12700,   835,   652,   623,   471, 12500,   786,\n",
              "         657,  4500,   934,   849,   741,   693,   500,  4800, 13800,\n",
              "         872,   769,   656,   470,  6500,   564,  5400,   814,   608,\n",
              "         583,   496,   440, 33800, 15400,   504,   595,   812,   707,\n",
              "         984,   620,   599,   469,   940,   126,   519,   347,   498])"
            ]
          },
          "metadata": {},
          "execution_count": 583
        }
      ]
    },
    {
      "cell_type": "code",
      "source": [
        "df.dtypes"
      ],
      "metadata": {
        "colab": {
          "base_uri": "https://localhost:8080/"
        },
        "id": "T_aCdzoQQJ7a",
        "outputId": "ee6e5d4e-0e0f-42b1-ade8-12d0f9b86a0f"
      },
      "execution_count": null,
      "outputs": [
        {
          "output_type": "execute_result",
          "data": {
            "text/plain": [
              "category             object\n",
              "city                 object\n",
              "gold_merchant          bool\n",
              "image_url            object\n",
              "jumlah_review         int64\n",
              "jumlah_view           int64\n",
              "location             object\n",
              "presentase_diskon     int64\n",
              "price                 int64\n",
              "product_id            int64\n",
              "quantity_sold         int64\n",
              "rating                int64\n",
              "shop_name            object\n",
              "subcategory          object\n",
              "title                object\n",
              "url                  object\n",
              "dtype: object"
            ]
          },
          "metadata": {},
          "execution_count": 584
        }
      ]
    },
    {
      "cell_type": "code",
      "source": [
        "#Check Outliers\n",
        "numerical_columns = ['jumlah_review','jumlah_view','presentase_diskon','price','quantity_sold','rating']\n",
        "\n",
        "for column in numerical_columns:\n",
        "  plt.figure()\n",
        "  sns.boxplot(x=df[column])\n",
        "  plt.show()"
      ],
      "metadata": {
        "colab": {
          "base_uri": "https://localhost:8080/",
          "height": 1000
        },
        "id": "GP4jToQnsp7K",
        "outputId": "dd9cb744-e827-494a-da7b-dc3194d78b77"
      },
      "execution_count": null,
      "outputs": [
        {
          "output_type": "display_data",
          "data": {
            "text/plain": [
              "<Figure size 432x288 with 1 Axes>"
            ],
            "image/png": "[encoded data removed]"
          },
          "metadata": {
            "needs_background": "light"
          }
        },
        {
          "output_type": "display_data",
          "data": {
            "text/plain": [
              "<Figure size 432x288 with 1 Axes>"
            ],
            "image/png": "[encoded data removed]"
          },
          "metadata": {
            "needs_background": "light"
          }
        },
        {
          "output_type": "display_data",
          "data": {
            "text/plain": [
              "<Figure size 432x288 with 1 Axes>"
            ],
            "image/png": "[encoded data removed]"
          },
          "metadata": {
            "needs_background": "light"
          }
        },
        {
          "output_type": "display_data",
          "data": {
            "text/plain": [
              "<Figure size 432x288 with 1 Axes>"
            ],
            "image/png": "[encoded data removed]"
          },
          "metadata": {
            "needs_background": "light"
          }
        },
        {
          "output_type": "display_data",
          "data": {
            "text/plain": [
              "<Figure size 432x288 with 1 Axes>"
            ],
            "image/png": "[encoded data removed]"
          },
          "metadata": {
            "needs_background": "light"
          }
        },
        {
          "output_type": "display_data",
          "data": {
            "text/plain": [
              "<Figure size 432x288 with 1 Axes>"
            ],
            "image/png": "[encoded data removed]"
          },
          "metadata": {
            "needs_background": "light"
          }
        }
      ]
    },
    {
      "cell_type": "code",
      "source": [
        "print(f'Jumlah baris sebelum memfilter outlier: {len(df)}')\n",
        "filtered_entries = np.array([True] * len(df))\n",
        "\n",
        "outliers_columns = ['jumlah_review','jumlah_view','price','quantity_sold','rating']\n",
        "\n",
        "for column in outliers_columns:\n",
        "  Q1 = df[column].quantile(0.25)\n",
        "  Q3 = df[column].quantile(0.75)\n",
        "  IQR = Q3 - Q1\n",
        "  maximum_value = Q3 + 1.5*IQR\n",
        "  minimum_value = Q1 - 1.5*IQR\n",
        "  filtered_entries = ((df[column] >= minimum_value) & (df[column] <= maximum_value)) & filtered_entries\n",
        "\n",
        "df = df[filtered_entries]\n",
        "\n",
        "print(f'Jumlah baris setelah memfilter outlier: {len(df)}')"
      ],
      "metadata": {
        "colab": {
          "base_uri": "https://localhost:8080/"
        },
        "id": "XrxExmeivKmk",
        "outputId": "8d5be6a0-7a12-4604-e550-1c92b88251f6"
      },
      "execution_count": null,
      "outputs": [
        {
          "output_type": "stream",
          "name": "stdout",
          "text": [
            "Jumlah baris sebelum memfilter outlier: 4503\n",
            "Jumlah baris setelah memfilter outlier: 2709\n"
          ]
        }
      ]
    },
    {
      "cell_type": "code",
      "source": [
        "#Pie Chart\n",
        "fig = plt.figure()\n",
        "ax = fig.add_axes([0,0,1,1])\n",
        "ax.axis('equal')\n",
        "labels = ['Yes','No']\n",
        "churn = df.gold_merchant.value_counts()\n",
        "ax.pie(churn, labels=labels, autopct='%.0f%%', explode=[0,0.1])\n",
        "plt.title('Percentage of Gold Merchant')\n",
        "plt.show()"
      ],
      "metadata": {
        "colab": {
          "base_uri": "https://localhost:8080/",
          "height": 335
        },
        "id": "wTMAsCZ5w_Vq",
        "outputId": "78204f88-21d3-4231-b2d1-89f5f8ab8ab0"
      },
      "execution_count": null,
      "outputs": [
        {
          "output_type": "display_data",
          "data": {
            "text/plain": [
              "<Figure size 432x288 with 1 Axes>"
            ],
            "image/png": "[encoded data removed]"
          },
          "metadata": {}
        }
      ]
    },
    {
      "cell_type": "code",
      "source": [
        "#Count Plot\n",
        "plt.figure()\n",
        "plt.title('Total Merchant Based On Gold Merchant')\n",
        "ax = sns.countplot(x='gold_merchant', data= df, order=df['gold_merchant'].value_counts(ascending=False).index)\n",
        "plt.xlabel('Gold Merchant')\n",
        "plt.ylabel('Number of Merchant')\n",
        "\n",
        "for p, label in zip(ax.patches, df['gold_merchant'].value_counts().values):\n",
        "    ax.annotate(label, (p.get_x()+0.4, p.get_height()-250), weight='bold', color='white', ha='center')\n",
        "\n",
        "plt.show()"
      ],
      "metadata": {
        "colab": {
          "base_uri": "https://localhost:8080/",
          "height": 295
        },
        "id": "8ZpagLOLySCg",
        "outputId": "dc0af3e1-27ef-4da8-a859-7aee3106f2d1"
      },
      "execution_count": null,
      "outputs": [
        {
          "output_type": "display_data",
          "data": {
            "text/plain": [
              "<Figure size 432x288 with 1 Axes>"
            ],
            "image/png": "[encoded data removed]"
          },
          "metadata": {
            "needs_background": "light"
          }
        }
      ]
    },
    {
      "cell_type": "code",
      "source": [],
      "metadata": {
        "id": "usYKJbcz3Gma"
      },
      "execution_count": null,
      "outputs": []
    },
    {
      "cell_type": "code",
      "source": [
        "#Count Plot\n",
        "plt.figure(figsize=(30,50))\n",
        "plt.title('Merchant Based On Subcategory')\n",
        "sns.countplot(y='subcategory', hue='gold_merchant', data= df, order=df['subcategory'].value_counts(ascending=False).index)\n",
        "plt.xlabel('Number of Merchant')\n",
        "plt.ylabel('Subcategory')\n",
        "plt.show()"
      ],
      "metadata": {
        "colab": {
          "base_uri": "https://localhost:8080/",
          "height": 1000
        },
        "id": "UiFhzRJK1-IV",
        "outputId": "979de55e-ffa1-4327-8543-3df4c2c08206"
      },
      "execution_count": null,
      "outputs": [
        {
          "output_type": "display_data",
          "data": {
            "text/plain": [
              "<Figure size 2160x3600 with 1 Axes>"
            ],
            "image/png": "[encoded data removed]"
          },
          "metadata": {
            "needs_background": "light"
          }
        }
      ]
    },
    {
      "cell_type": "code",
      "source": [
        "#Subplots : membuat gambar dan satu set subplot\n",
        "numerical_features = ['jumlah_review','price','quantity_sold','rating']\n",
        "fig, ax = plt.subplots(1, 4, figsize=(15, 6))\n",
        "\n",
        "df[df.gold_merchant == False][numerical_features].hist(bins=20, color='blue', alpha=0.5, ax=ax)\n",
        "df[df.gold_merchant == True][numerical_features].hist(bins=20, color='orange', alpha=0.5, ax=ax)\n",
        "\n",
        "plt.show()"
      ],
      "metadata": {
        "colab": {
          "base_uri": "https://localhost:8080/",
          "height": 390
        },
        "id": "glRU8YAS0RWp",
        "outputId": "f54a348f-307e-42e2-9ec0-2f0a0d39ccc6"
      },
      "execution_count": null,
      "outputs": [
        {
          "output_type": "display_data",
          "data": {
            "text/plain": [
              "<Figure size 1080x432 with 4 Axes>"
            ],
            "image/png": "[encoded data removed]"
          },
          "metadata": {
            "needs_background": "light"
          }
        }
      ]
    },
    {
      "cell_type": "markdown",
      "source": [
        "### **Drop Unecessary Columns**\n",
        "\n",
        "---\n",
        "\n"
      ],
      "metadata": {
        "id": "Ww0mH4dhNxKw"
      }
    },
    {
      "cell_type": "code",
      "source": [
        "#Drop : menghapus kolom\n",
        "df = df.drop(['product_id','image_url','url','category','presentase_diskon','title'], axis=1)\n",
        "df.head()"
      ],
      "metadata": {
        "colab": {
          "base_uri": "https://localhost:8080/",
          "height": 206
        },
        "id": "CJR00VOSKTpG",
        "outputId": "494fdb69-0108-4c4c-f435-bfb318a82945"
      },
      "execution_count": null,
      "outputs": [
        {
          "output_type": "execute_result",
          "data": {
            "text/plain": [
              "              city  gold_merchant  jumlah_review  jumlah_view        location  \\\n",
              "5          Jakarta           True              1            0         Jakarta   \n",
              "7          Jakarta           True              1            0         Jakarta   \n",
              "8   Kota Surakarta           True              1            0  Kota Surakarta   \n",
              "9   Kota Surakarta           True              1            0  Kota Surakarta   \n",
              "10    Kota Bandung           True              4            0    Kota Bandung   \n",
              "\n",
              "     price  quantity_sold  rating               shop_name    subcategory  \n",
              "5    92000              0       5  Amelie Butik Wholesale  Celana Pendek  \n",
              "7    43750              0       5                  LEMONE           Kaos  \n",
              "8   209000              0       5    Pusat Batik Sarimbit   Batik Couple  \n",
              "9   159000              0       5    Pusat Batik Sarimbit   Batik Couple  \n",
              "10  215000              0       5           FashionOnline          Jaket  "
            ],
            "text/html": [
              "\n",
              "  <div id=\"df-f45b9ecb-a8b9-4ee4-8b2a-aeea91af9b95\">\n",
              "    <div class=\"colab-df-container\">\n",
              "      <div>\n",
              "<style scoped>\n",
              "    .dataframe tbody tr th:only-of-type {\n",
              "        vertical-align: middle;\n",
              "    }\n",
              "\n",
              "    .dataframe tbody tr th {\n",
              "        vertical-align: top;\n",
              "    }\n",
              "\n",
              "    .dataframe thead th {\n",
              "        text-align: right;\n",
              "    }\n",
              "</style>\n",
              "<table border=\"1\" class=\"dataframe\">\n",
              "  <thead>\n",
              "    <tr style=\"text-align: right;\">\n",
              "      <th></th>\n",
              "      <th>city</th>\n",
              "      <th>gold_merchant</th>\n",
              "      <th>jumlah_review</th>\n",
              "      <th>jumlah_view</th>\n",
              "      <th>location</th>\n",
              "      <th>price</th>\n",
              "      <th>quantity_sold</th>\n",
              "      <th>rating</th>\n",
              "      <th>shop_name</th>\n",
              "      <th>subcategory</th>\n",
              "    </tr>\n",
              "  </thead>\n",
              "  <tbody>\n",
              "    <tr>\n",
              "      <th>5</th>\n",
              "      <td>Jakarta</td>\n",
              "      <td>True</td>\n",
              "      <td>1</td>\n",
              "      <td>0</td>\n",
              "      <td>Jakarta</td>\n",
              "      <td>92000</td>\n",
              "      <td>0</td>\n",
              "      <td>5</td>\n",
              "      <td>Amelie Butik Wholesale</td>\n",
              "      <td>Celana Pendek</td>\n",
              "    </tr>\n",
              "    <tr>\n",
              "      <th>7</th>\n",
              "      <td>Jakarta</td>\n",
              "      <td>True</td>\n",
              "      <td>1</td>\n",
              "      <td>0</td>\n",
              "      <td>Jakarta</td>\n",
              "      <td>43750</td>\n",
              "      <td>0</td>\n",
              "      <td>5</td>\n",
              "      <td>LEMONE</td>\n",
              "      <td>Kaos</td>\n",
              "    </tr>\n",
              "    <tr>\n",
              "      <th>8</th>\n",
              "      <td>Kota Surakarta</td>\n",
              "      <td>True</td>\n",
              "      <td>1</td>\n",
              "      <td>0</td>\n",
              "      <td>Kota Surakarta</td>\n",
              "      <td>209000</td>\n",
              "      <td>0</td>\n",
              "      <td>5</td>\n",
              "      <td>Pusat Batik Sarimbit</td>\n",
              "      <td>Batik Couple</td>\n",
              "    </tr>\n",
              "    <tr>\n",
              "      <th>9</th>\n",
              "      <td>Kota Surakarta</td>\n",
              "      <td>True</td>\n",
              "      <td>1</td>\n",
              "      <td>0</td>\n",
              "      <td>Kota Surakarta</td>\n",
              "      <td>159000</td>\n",
              "      <td>0</td>\n",
              "      <td>5</td>\n",
              "      <td>Pusat Batik Sarimbit</td>\n",
              "      <td>Batik Couple</td>\n",
              "    </tr>\n",
              "    <tr>\n",
              "      <th>10</th>\n",
              "      <td>Kota Bandung</td>\n",
              "      <td>True</td>\n",
              "      <td>4</td>\n",
              "      <td>0</td>\n",
              "      <td>Kota Bandung</td>\n",
              "      <td>215000</td>\n",
              "      <td>0</td>\n",
              "      <td>5</td>\n",
              "      <td>FashionOnline</td>\n",
              "      <td>Jaket</td>\n",
              "    </tr>\n",
              "  </tbody>\n",
              "</table>\n",
              "</div>\n",
              "      <button class=\"colab-df-convert\" onclick=\"convertToInteractive('df-f45b9ecb-a8b9-4ee4-8b2a-aeea91af9b95')\"\n",
              "              title=\"Convert this dataframe to an interactive table.\"\n",
              "              style=\"display:none;\">\n",
              "        \n",
              "  <svg xmlns=\"http://www.w3.org/2000/svg\" height=\"24px\"viewBox=\"0 0 24 24\"\n",
              "       width=\"24px\">\n",
              "    <path d=\"M0 0h24v24H0V0z\" fill=\"none\"/>\n",
              "    <path d=\"M18.56 5.44l.94 2.06.94-2.06 2.06-.94-2.06-.94-.94-2.06-.94 2.06-2.06.94zm-11 1L8.5 8.5l.94-2.06 2.06-.94-2.06-.94L8.5 2.5l-.94 2.06-2.06.94zm10 10l.94 2.06.94-2.06 2.06-.94-2.06-.94-.94-2.06-.94 2.06-2.06.94z\"/><path d=\"M17.41 7.96l-1.37-1.37c-.4-.4-.92-.59-1.43-.59-.52 0-1.04.2-1.43.59L10.3 9.45l-7.72 7.72c-.78.78-.78 2.05 0 2.83L4 21.41c.39.39.9.59 1.41.59.51 0 1.02-.2 1.41-.59l7.78-7.78 2.81-2.81c.8-.78.8-2.07 0-2.86zM5.41 20L4 18.59l7.72-7.72 1.47 1.35L5.41 20z\"/>\n",
              "  </svg>\n",
              "      </button>\n",
              "      \n",
              "  <style>\n",
              "    .colab-df-container {\n",
              "      display:flex;\n",
              "      flex-wrap:wrap;\n",
              "      gap: 12px;\n",
              "    }\n",
              "\n",
              "    .colab-df-convert {\n",
              "      background-color: #E8F0FE;\n",
              "      border: none;\n",
              "      border-radius: 50%;\n",
              "      cursor: pointer;\n",
              "      display: none;\n",
              "      fill: #1967D2;\n",
              "      height: 32px;\n",
              "      padding: 0 0 0 0;\n",
              "      width: 32px;\n",
              "    }\n",
              "\n",
              "    .colab-df-convert:hover {\n",
              "      background-color: #E2EBFA;\n",
              "      box-shadow: 0px 1px 2px rgba(60, 64, 67, 0.3), 0px 1px 3px 1px rgba(60, 64, 67, 0.15);\n",
              "      fill: #174EA6;\n",
              "    }\n",
              "\n",
              "    [theme=dark] .colab-df-convert {\n",
              "      background-color: #3B4455;\n",
              "      fill: #D2E3FC;\n",
              "    }\n",
              "\n",
              "    [theme=dark] .colab-df-convert:hover {\n",
              "      background-color: #434B5C;\n",
              "      box-shadow: 0px 1px 3px 1px rgba(0, 0, 0, 0.15);\n",
              "      filter: drop-shadow(0px 1px 2px rgba(0, 0, 0, 0.3));\n",
              "      fill: #FFFFFF;\n",
              "    }\n",
              "  </style>\n",
              "\n",
              "      <script>\n",
              "        const buttonEl =\n",
              "          document.querySelector('#df-f45b9ecb-a8b9-4ee4-8b2a-aeea91af9b95 button.colab-df-convert');\n",
              "        buttonEl.style.display =\n",
              "          google.colab.kernel.accessAllowed ? 'block' : 'none';\n",
              "\n",
              "        async function convertToInteractive(key) {\n",
              "          const element = document.querySelector('#df-f45b9ecb-a8b9-4ee4-8b2a-aeea91af9b95');\n",
              "          const dataTable =\n",
              "            await google.colab.kernel.invokeFunction('convertToInteractive',\n",
              "                                                     [key], {});\n",
              "          if (!dataTable) return;\n",
              "\n",
              "          const docLinkHtml = 'Like what you see? Visit the ' +\n",
              "            '<a target=\"_blank\" href=https://colab.research.google.com/notebooks/data_table.ipynb>data table notebook</a>'\n",
              "            + ' to learn more about interactive tables.';\n",
              "          element.innerHTML = '';\n",
              "          dataTable['output_type'] = 'display_data';\n",
              "          await google.colab.output.renderOutput(dataTable, element);\n",
              "          const docLink = document.createElement('div');\n",
              "          docLink.innerHTML = docLinkHtml;\n",
              "          element.appendChild(docLink);\n",
              "        }\n",
              "      </script>\n",
              "    </div>\n",
              "  </div>\n",
              "  "
            ]
          },
          "metadata": {},
          "execution_count": 534
        }
      ]
    },
    {
      "cell_type": "markdown",
      "source": [
        "### **Normalization and Standardization**\n",
        "\n",
        "---\n",
        "\n"
      ],
      "metadata": {
        "id": "tjOtpvRwM8ql"
      }
    },
    {
      "cell_type": "code",
      "source": [
        "df.describe()"
      ],
      "metadata": {
        "colab": {
          "base_uri": "https://localhost:8080/",
          "height": 300
        },
        "id": "2vczQM-JHWvb",
        "outputId": "1ebe62b3-b293-4a56-df4a-cda5d9a50f01"
      },
      "execution_count": null,
      "outputs": [
        {
          "output_type": "execute_result",
          "data": {
            "text/plain": [
              "       jumlah_review  jumlah_view          price  quantity_sold  rating\n",
              "count    2709.000000       2709.0    2709.000000    2709.000000  2709.0\n",
              "mean        9.824659          0.0   85870.148763      16.542267     5.0\n",
              "std        10.533125          0.0   45034.023516      22.496417     0.0\n",
              "min         1.000000          0.0    7500.000000       0.000000     5.0\n",
              "25%         2.000000          0.0   54900.000000       1.000000     5.0\n",
              "50%         5.000000          0.0   76500.000000       7.000000     5.0\n",
              "75%        16.000000          0.0  105000.000000      23.000000     5.0\n",
              "max        55.000000          0.0  215000.000000      99.000000     5.0"
            ],
            "text/html": [
              "\n",
              "  <div id=\"df-7db939b3-9bc6-454e-b65f-de6ad6f3fed6\">\n",
              "    <div class=\"colab-df-container\">\n",
              "      <div>\n",
              "<style scoped>\n",
              "    .dataframe tbody tr th:only-of-type {\n",
              "        vertical-align: middle;\n",
              "    }\n",
              "\n",
              "    .dataframe tbody tr th {\n",
              "        vertical-align: top;\n",
              "    }\n",
              "\n",
              "    .dataframe thead th {\n",
              "        text-align: right;\n",
              "    }\n",
              "</style>\n",
              "<table border=\"1\" class=\"dataframe\">\n",
              "  <thead>\n",
              "    <tr style=\"text-align: right;\">\n",
              "      <th></th>\n",
              "      <th>jumlah_review</th>\n",
              "      <th>jumlah_view</th>\n",
              "      <th>price</th>\n",
              "      <th>quantity_sold</th>\n",
              "      <th>rating</th>\n",
              "    </tr>\n",
              "  </thead>\n",
              "  <tbody>\n",
              "    <tr>\n",
              "      <th>count</th>\n",
              "      <td>2709.000000</td>\n",
              "      <td>2709.0</td>\n",
              "      <td>2709.000000</td>\n",
              "      <td>2709.000000</td>\n",
              "      <td>2709.0</td>\n",
              "    </tr>\n",
              "    <tr>\n",
              "      <th>mean</th>\n",
              "      <td>9.824659</td>\n",
              "      <td>0.0</td>\n",
              "      <td>85870.148763</td>\n",
              "      <td>16.542267</td>\n",
              "      <td>5.0</td>\n",
              "    </tr>\n",
              "    <tr>\n",
              "      <th>std</th>\n",
              "      <td>10.533125</td>\n",
              "      <td>0.0</td>\n",
              "      <td>45034.023516</td>\n",
              "      <td>22.496417</td>\n",
              "      <td>0.0</td>\n",
              "    </tr>\n",
              "    <tr>\n",
              "      <th>min</th>\n",
              "      <td>1.000000</td>\n",
              "      <td>0.0</td>\n",
              "      <td>7500.000000</td>\n",
              "      <td>0.000000</td>\n",
              "      <td>5.0</td>\n",
              "    </tr>\n",
              "    <tr>\n",
              "      <th>25%</th>\n",
              "      <td>2.000000</td>\n",
              "      <td>0.0</td>\n",
              "      <td>54900.000000</td>\n",
              "      <td>1.000000</td>\n",
              "      <td>5.0</td>\n",
              "    </tr>\n",
              "    <tr>\n",
              "      <th>50%</th>\n",
              "      <td>5.000000</td>\n",
              "      <td>0.0</td>\n",
              "      <td>76500.000000</td>\n",
              "      <td>7.000000</td>\n",
              "      <td>5.0</td>\n",
              "    </tr>\n",
              "    <tr>\n",
              "      <th>75%</th>\n",
              "      <td>16.000000</td>\n",
              "      <td>0.0</td>\n",
              "      <td>105000.000000</td>\n",
              "      <td>23.000000</td>\n",
              "      <td>5.0</td>\n",
              "    </tr>\n",
              "    <tr>\n",
              "      <th>max</th>\n",
              "      <td>55.000000</td>\n",
              "      <td>0.0</td>\n",
              "      <td>215000.000000</td>\n",
              "      <td>99.000000</td>\n",
              "      <td>5.0</td>\n",
              "    </tr>\n",
              "  </tbody>\n",
              "</table>\n",
              "</div>\n",
              "      <button class=\"colab-df-convert\" onclick=\"convertToInteractive('df-7db939b3-9bc6-454e-b65f-de6ad6f3fed6')\"\n",
              "              title=\"Convert this dataframe to an interactive table.\"\n",
              "              style=\"display:none;\">\n",
              "        \n",
              "  <svg xmlns=\"http://www.w3.org/2000/svg\" height=\"24px\"viewBox=\"0 0 24 24\"\n",
              "       width=\"24px\">\n",
              "    <path d=\"M0 0h24v24H0V0z\" fill=\"none\"/>\n",
              "    <path d=\"M18.56 5.44l.94 2.06.94-2.06 2.06-.94-2.06-.94-.94-2.06-.94 2.06-2.06.94zm-11 1L8.5 8.5l.94-2.06 2.06-.94-2.06-.94L8.5 2.5l-.94 2.06-2.06.94zm10 10l.94 2.06.94-2.06 2.06-.94-2.06-.94-.94-2.06-.94 2.06-2.06.94z\"/><path d=\"M17.41 7.96l-1.37-1.37c-.4-.4-.92-.59-1.43-.59-.52 0-1.04.2-1.43.59L10.3 9.45l-7.72 7.72c-.78.78-.78 2.05 0 2.83L4 21.41c.39.39.9.59 1.41.59.51 0 1.02-.2 1.41-.59l7.78-7.78 2.81-2.81c.8-.78.8-2.07 0-2.86zM5.41 20L4 18.59l7.72-7.72 1.47 1.35L5.41 20z\"/>\n",
              "  </svg>\n",
              "      </button>\n",
              "      \n",
              "  <style>\n",
              "    .colab-df-container {\n",
              "      display:flex;\n",
              "      flex-wrap:wrap;\n",
              "      gap: 12px;\n",
              "    }\n",
              "\n",
              "    .colab-df-convert {\n",
              "      background-color: #E8F0FE;\n",
              "      border: none;\n",
              "      border-radius: 50%;\n",
              "      cursor: pointer;\n",
              "      display: none;\n",
              "      fill: #1967D2;\n",
              "      height: 32px;\n",
              "      padding: 0 0 0 0;\n",
              "      width: 32px;\n",
              "    }\n",
              "\n",
              "    .colab-df-convert:hover {\n",
              "      background-color: #E2EBFA;\n",
              "      box-shadow: 0px 1px 2px rgba(60, 64, 67, 0.3), 0px 1px 3px 1px rgba(60, 64, 67, 0.15);\n",
              "      fill: #174EA6;\n",
              "    }\n",
              "\n",
              "    [theme=dark] .colab-df-convert {\n",
              "      background-color: #3B4455;\n",
              "      fill: #D2E3FC;\n",
              "    }\n",
              "\n",
              "    [theme=dark] .colab-df-convert:hover {\n",
              "      background-color: #434B5C;\n",
              "      box-shadow: 0px 1px 3px 1px rgba(0, 0, 0, 0.15);\n",
              "      filter: drop-shadow(0px 1px 2px rgba(0, 0, 0, 0.3));\n",
              "      fill: #FFFFFF;\n",
              "    }\n",
              "  </style>\n",
              "\n",
              "      <script>\n",
              "        const buttonEl =\n",
              "          document.querySelector('#df-7db939b3-9bc6-454e-b65f-de6ad6f3fed6 button.colab-df-convert');\n",
              "        buttonEl.style.display =\n",
              "          google.colab.kernel.accessAllowed ? 'block' : 'none';\n",
              "\n",
              "        async function convertToInteractive(key) {\n",
              "          const element = document.querySelector('#df-7db939b3-9bc6-454e-b65f-de6ad6f3fed6');\n",
              "          const dataTable =\n",
              "            await google.colab.kernel.invokeFunction('convertToInteractive',\n",
              "                                                     [key], {});\n",
              "          if (!dataTable) return;\n",
              "\n",
              "          const docLinkHtml = 'Like what you see? Visit the ' +\n",
              "            '<a target=\"_blank\" href=https://colab.research.google.com/notebooks/data_table.ipynb>data table notebook</a>'\n",
              "            + ' to learn more about interactive tables.';\n",
              "          element.innerHTML = '';\n",
              "          dataTable['output_type'] = 'display_data';\n",
              "          await google.colab.output.renderOutput(dataTable, element);\n",
              "          const docLink = document.createElement('div');\n",
              "          docLink.innerHTML = docLinkHtml;\n",
              "          element.appendChild(docLink);\n",
              "        }\n",
              "      </script>\n",
              "    </div>\n",
              "  </div>\n",
              "  "
            ]
          },
          "metadata": {},
          "execution_count": 535
        }
      ]
    },
    {
      "cell_type": "code",
      "source": [
        "#Normalization and Standardization\n",
        "df['jumlah_view'] = MinMaxScaler().fit_transform(df['jumlah_view'].values.reshape(len(df),1))\n",
        "df['jumlah_review'] = MinMaxScaler().fit_transform(df['jumlah_review'].values.reshape(len(df),1))\n",
        "df['price'] = StandardScaler().fit_transform(df['price'].values.reshape(len(df),1))\n",
        "df['quantity_sold'] = MinMaxScaler().fit_transform(df['quantity_sold'].values.reshape(len(df),1))\n",
        "df['rating'] = StandardScaler().fit_transform(df['rating'].values.reshape(len(df),1))"
      ],
      "metadata": {
        "id": "hTmfiytmETcQ"
      },
      "execution_count": null,
      "outputs": []
    },
    {
      "cell_type": "code",
      "source": [
        "df.describe()"
      ],
      "metadata": {
        "colab": {
          "base_uri": "https://localhost:8080/",
          "height": 300
        },
        "id": "4zS6neIFVZ3J",
        "outputId": "ecc83fe4-bfda-4921-d0b2-4e76399bcdd7"
      },
      "execution_count": null,
      "outputs": [
        {
          "output_type": "execute_result",
          "data": {
            "text/plain": [
              "       jumlah_review  jumlah_view         price  quantity_sold  rating\n",
              "count    2709.000000       2709.0  2.709000e+03    2709.000000  2709.0\n",
              "mean        0.163420          0.0 -4.196635e-17       0.167094     0.0\n",
              "std         0.195058          0.0  1.000185e+00       0.227237     0.0\n",
              "min         0.000000          0.0 -1.740564e+00       0.000000     0.0\n",
              "25%         0.018519          0.0 -6.878325e-01       0.010101     0.0\n",
              "50%         0.074074          0.0 -2.081066e-01       0.070707     0.0\n",
              "75%         0.277778          0.0  4.248651e-01       0.232323     0.0\n",
              "max         1.000000          0.0  2.867914e+00       1.000000     0.0"
            ],
            "text/html": [
              "\n",
              "  <div id=\"df-6f2b3a71-700f-4d90-b2ce-c83951bd889a\">\n",
              "    <div class=\"colab-df-container\">\n",
              "      <div>\n",
              "<style scoped>\n",
              "    .dataframe tbody tr th:only-of-type {\n",
              "        vertical-align: middle;\n",
              "    }\n",
              "\n",
              "    .dataframe tbody tr th {\n",
              "        vertical-align: top;\n",
              "    }\n",
              "\n",
              "    .dataframe thead th {\n",
              "        text-align: right;\n",
              "    }\n",
              "</style>\n",
              "<table border=\"1\" class=\"dataframe\">\n",
              "  <thead>\n",
              "    <tr style=\"text-align: right;\">\n",
              "      <th></th>\n",
              "      <th>jumlah_review</th>\n",
              "      <th>jumlah_view</th>\n",
              "      <th>price</th>\n",
              "      <th>quantity_sold</th>\n",
              "      <th>rating</th>\n",
              "    </tr>\n",
              "  </thead>\n",
              "  <tbody>\n",
              "    <tr>\n",
              "      <th>count</th>\n",
              "      <td>2709.000000</td>\n",
              "      <td>2709.0</td>\n",
              "      <td>2.709000e+03</td>\n",
              "      <td>2709.000000</td>\n",
              "      <td>2709.0</td>\n",
              "    </tr>\n",
              "    <tr>\n",
              "      <th>mean</th>\n",
              "      <td>0.163420</td>\n",
              "      <td>0.0</td>\n",
              "      <td>-4.196635e-17</td>\n",
              "      <td>0.167094</td>\n",
              "      <td>0.0</td>\n",
              "    </tr>\n",
              "    <tr>\n",
              "      <th>std</th>\n",
              "      <td>0.195058</td>\n",
              "      <td>0.0</td>\n",
              "      <td>1.000185e+00</td>\n",
              "      <td>0.227237</td>\n",
              "      <td>0.0</td>\n",
              "    </tr>\n",
              "    <tr>\n",
              "      <th>min</th>\n",
              "      <td>0.000000</td>\n",
              "      <td>0.0</td>\n",
              "      <td>-1.740564e+00</td>\n",
              "      <td>0.000000</td>\n",
              "      <td>0.0</td>\n",
              "    </tr>\n",
              "    <tr>\n",
              "      <th>25%</th>\n",
              "      <td>0.018519</td>\n",
              "      <td>0.0</td>\n",
              "      <td>-6.878325e-01</td>\n",
              "      <td>0.010101</td>\n",
              "      <td>0.0</td>\n",
              "    </tr>\n",
              "    <tr>\n",
              "      <th>50%</th>\n",
              "      <td>0.074074</td>\n",
              "      <td>0.0</td>\n",
              "      <td>-2.081066e-01</td>\n",
              "      <td>0.070707</td>\n",
              "      <td>0.0</td>\n",
              "    </tr>\n",
              "    <tr>\n",
              "      <th>75%</th>\n",
              "      <td>0.277778</td>\n",
              "      <td>0.0</td>\n",
              "      <td>4.248651e-01</td>\n",
              "      <td>0.232323</td>\n",
              "      <td>0.0</td>\n",
              "    </tr>\n",
              "    <tr>\n",
              "      <th>max</th>\n",
              "      <td>1.000000</td>\n",
              "      <td>0.0</td>\n",
              "      <td>2.867914e+00</td>\n",
              "      <td>1.000000</td>\n",
              "      <td>0.0</td>\n",
              "    </tr>\n",
              "  </tbody>\n",
              "</table>\n",
              "</div>\n",
              "      <button class=\"colab-df-convert\" onclick=\"convertToInteractive('df-6f2b3a71-700f-4d90-b2ce-c83951bd889a')\"\n",
              "              title=\"Convert this dataframe to an interactive table.\"\n",
              "              style=\"display:none;\">\n",
              "        \n",
              "  <svg xmlns=\"http://www.w3.org/2000/svg\" height=\"24px\"viewBox=\"0 0 24 24\"\n",
              "       width=\"24px\">\n",
              "    <path d=\"M0 0h24v24H0V0z\" fill=\"none\"/>\n",
              "    <path d=\"M18.56 5.44l.94 2.06.94-2.06 2.06-.94-2.06-.94-.94-2.06-.94 2.06-2.06.94zm-11 1L8.5 8.5l.94-2.06 2.06-.94-2.06-.94L8.5 2.5l-.94 2.06-2.06.94zm10 10l.94 2.06.94-2.06 2.06-.94-2.06-.94-.94-2.06-.94 2.06-2.06.94z\"/><path d=\"M17.41 7.96l-1.37-1.37c-.4-.4-.92-.59-1.43-.59-.52 0-1.04.2-1.43.59L10.3 9.45l-7.72 7.72c-.78.78-.78 2.05 0 2.83L4 21.41c.39.39.9.59 1.41.59.51 0 1.02-.2 1.41-.59l7.78-7.78 2.81-2.81c.8-.78.8-2.07 0-2.86zM5.41 20L4 18.59l7.72-7.72 1.47 1.35L5.41 20z\"/>\n",
              "  </svg>\n",
              "      </button>\n",
              "      \n",
              "  <style>\n",
              "    .colab-df-container {\n",
              "      display:flex;\n",
              "      flex-wrap:wrap;\n",
              "      gap: 12px;\n",
              "    }\n",
              "\n",
              "    .colab-df-convert {\n",
              "      background-color: #E8F0FE;\n",
              "      border: none;\n",
              "      border-radius: 50%;\n",
              "      cursor: pointer;\n",
              "      display: none;\n",
              "      fill: #1967D2;\n",
              "      height: 32px;\n",
              "      padding: 0 0 0 0;\n",
              "      width: 32px;\n",
              "    }\n",
              "\n",
              "    .colab-df-convert:hover {\n",
              "      background-color: #E2EBFA;\n",
              "      box-shadow: 0px 1px 2px rgba(60, 64, 67, 0.3), 0px 1px 3px 1px rgba(60, 64, 67, 0.15);\n",
              "      fill: #174EA6;\n",
              "    }\n",
              "\n",
              "    [theme=dark] .colab-df-convert {\n",
              "      background-color: #3B4455;\n",
              "      fill: #D2E3FC;\n",
              "    }\n",
              "\n",
              "    [theme=dark] .colab-df-convert:hover {\n",
              "      background-color: #434B5C;\n",
              "      box-shadow: 0px 1px 3px 1px rgba(0, 0, 0, 0.15);\n",
              "      filter: drop-shadow(0px 1px 2px rgba(0, 0, 0, 0.3));\n",
              "      fill: #FFFFFF;\n",
              "    }\n",
              "  </style>\n",
              "\n",
              "      <script>\n",
              "        const buttonEl =\n",
              "          document.querySelector('#df-6f2b3a71-700f-4d90-b2ce-c83951bd889a button.colab-df-convert');\n",
              "        buttonEl.style.display =\n",
              "          google.colab.kernel.accessAllowed ? 'block' : 'none';\n",
              "\n",
              "        async function convertToInteractive(key) {\n",
              "          const element = document.querySelector('#df-6f2b3a71-700f-4d90-b2ce-c83951bd889a');\n",
              "          const dataTable =\n",
              "            await google.colab.kernel.invokeFunction('convertToInteractive',\n",
              "                                                     [key], {});\n",
              "          if (!dataTable) return;\n",
              "\n",
              "          const docLinkHtml = 'Like what you see? Visit the ' +\n",
              "            '<a target=\"_blank\" href=https://colab.research.google.com/notebooks/data_table.ipynb>data table notebook</a>'\n",
              "            + ' to learn more about interactive tables.';\n",
              "          element.innerHTML = '';\n",
              "          dataTable['output_type'] = 'display_data';\n",
              "          await google.colab.output.renderOutput(dataTable, element);\n",
              "          const docLink = document.createElement('div');\n",
              "          docLink.innerHTML = docLinkHtml;\n",
              "          element.appendChild(docLink);\n",
              "        }\n",
              "      </script>\n",
              "    </div>\n",
              "  </div>\n",
              "  "
            ]
          },
          "metadata": {},
          "execution_count": 537
        }
      ]
    },
    {
      "cell_type": "markdown",
      "source": [
        "### **Feature Encoding**\n",
        "\n",
        "---\n",
        "\n"
      ],
      "metadata": {
        "id": "bRqllZDYN8KR"
      }
    },
    {
      "cell_type": "code",
      "source": [
        "df.dtypes"
      ],
      "metadata": {
        "colab": {
          "base_uri": "https://localhost:8080/"
        },
        "id": "3Z4NOMVfWnNe",
        "outputId": "78ed3881-5b6a-498e-a8d3-3dcc6de4e8b3"
      },
      "execution_count": null,
      "outputs": [
        {
          "output_type": "execute_result",
          "data": {
            "text/plain": [
              "city              object\n",
              "gold_merchant       bool\n",
              "jumlah_review    float64\n",
              "jumlah_view      float64\n",
              "location          object\n",
              "price            float64\n",
              "quantity_sold    float64\n",
              "rating           float64\n",
              "shop_name         object\n",
              "subcategory       object\n",
              "dtype: object"
            ]
          },
          "metadata": {},
          "execution_count": 538
        }
      ]
    },
    {
      "cell_type": "code",
      "source": [
        "#Feature Encoding --> one hot encoding\n",
        "categorical_columns = ['city','gold_merchant','location','shop_name','subcategory']\n",
        "\n",
        "for col in categorical_columns:\n",
        "  df[col] = df[col].astype('category')\n",
        "\n",
        "# for cat in categorical_columns:\n",
        "#   onehots = pd.get_dummies(df[cat], prefix=cat)\n",
        "#   df = df.join(onehots)\n",
        "\n",
        "df.dtypes"
      ],
      "metadata": {
        "colab": {
          "base_uri": "https://localhost:8080/"
        },
        "id": "4kiifTMLGwc_",
        "outputId": "7f48b2ae-18c5-477e-9082-cfaa800d8dc3"
      },
      "execution_count": null,
      "outputs": [
        {
          "output_type": "execute_result",
          "data": {
            "text/plain": [
              "city             category\n",
              "gold_merchant    category\n",
              "jumlah_review     float64\n",
              "jumlah_view       float64\n",
              "location         category\n",
              "price             float64\n",
              "quantity_sold     float64\n",
              "rating            float64\n",
              "shop_name        category\n",
              "subcategory      category\n",
              "dtype: object"
            ]
          },
          "metadata": {},
          "execution_count": 539
        }
      ]
    },
    {
      "cell_type": "code",
      "source": [
        "for col in categorical_columns:\n",
        "  df[col] = df[col].cat.codes\n",
        "\n",
        "df.head()"
      ],
      "metadata": {
        "colab": {
          "base_uri": "https://localhost:8080/",
          "height": 206
        },
        "id": "1psolxZLZ7tk",
        "outputId": "57d1a0b2-d32e-45be-97d0-1c902151cd3b"
      },
      "execution_count": null,
      "outputs": [
        {
          "output_type": "execute_result",
          "data": {
            "text/plain": [
              "    city  gold_merchant  jumlah_review  jumlah_view  location     price  \\\n",
              "5      0              1       0.000000          0.0         0  0.136141   \n",
              "7      0              1       0.000000          0.0         0 -0.935469   \n",
              "8     40              1       0.000000          0.0        40  2.734656   \n",
              "9     40              1       0.000000          0.0        40  1.624180   \n",
              "10    23              1       0.055556          0.0        23  2.867914   \n",
              "\n",
              "    quantity_sold  rating  shop_name  subcategory  \n",
              "5             0.0     0.0         30           12  \n",
              "7             0.0     0.0        282           23  \n",
              "8             0.0     0.0        394            3  \n",
              "9             0.0     0.0        394            3  \n",
              "10            0.0     0.0        178           20  "
            ],
            "text/html": [
              "\n",
              "  <div id=\"df-97d1976a-672c-422b-a58d-4b438df4cced\">\n",
              "    <div class=\"colab-df-container\">\n",
              "      <div>\n",
              "<style scoped>\n",
              "    .dataframe tbody tr th:only-of-type {\n",
              "        vertical-align: middle;\n",
              "    }\n",
              "\n",
              "    .dataframe tbody tr th {\n",
              "        vertical-align: top;\n",
              "    }\n",
              "\n",
              "    .dataframe thead th {\n",
              "        text-align: right;\n",
              "    }\n",
              "</style>\n",
              "<table border=\"1\" class=\"dataframe\">\n",
              "  <thead>\n",
              "    <tr style=\"text-align: right;\">\n",
              "      <th></th>\n",
              "      <th>city</th>\n",
              "      <th>gold_merchant</th>\n",
              "      <th>jumlah_review</th>\n",
              "      <th>jumlah_view</th>\n",
              "      <th>location</th>\n",
              "      <th>price</th>\n",
              "      <th>quantity_sold</th>\n",
              "      <th>rating</th>\n",
              "      <th>shop_name</th>\n",
              "      <th>subcategory</th>\n",
              "    </tr>\n",
              "  </thead>\n",
              "  <tbody>\n",
              "    <tr>\n",
              "      <th>5</th>\n",
              "      <td>0</td>\n",
              "      <td>1</td>\n",
              "      <td>0.000000</td>\n",
              "      <td>0.0</td>\n",
              "      <td>0</td>\n",
              "      <td>0.136141</td>\n",
              "      <td>0.0</td>\n",
              "      <td>0.0</td>\n",
              "      <td>30</td>\n",
              "      <td>12</td>\n",
              "    </tr>\n",
              "    <tr>\n",
              "      <th>7</th>\n",
              "      <td>0</td>\n",
              "      <td>1</td>\n",
              "      <td>0.000000</td>\n",
              "      <td>0.0</td>\n",
              "      <td>0</td>\n",
              "      <td>-0.935469</td>\n",
              "      <td>0.0</td>\n",
              "      <td>0.0</td>\n",
              "      <td>282</td>\n",
              "      <td>23</td>\n",
              "    </tr>\n",
              "    <tr>\n",
              "      <th>8</th>\n",
              "      <td>40</td>\n",
              "      <td>1</td>\n",
              "      <td>0.000000</td>\n",
              "      <td>0.0</td>\n",
              "      <td>40</td>\n",
              "      <td>2.734656</td>\n",
              "      <td>0.0</td>\n",
              "      <td>0.0</td>\n",
              "      <td>394</td>\n",
              "      <td>3</td>\n",
              "    </tr>\n",
              "    <tr>\n",
              "      <th>9</th>\n",
              "      <td>40</td>\n",
              "      <td>1</td>\n",
              "      <td>0.000000</td>\n",
              "      <td>0.0</td>\n",
              "      <td>40</td>\n",
              "      <td>1.624180</td>\n",
              "      <td>0.0</td>\n",
              "      <td>0.0</td>\n",
              "      <td>394</td>\n",
              "      <td>3</td>\n",
              "    </tr>\n",
              "    <tr>\n",
              "      <th>10</th>\n",
              "      <td>23</td>\n",
              "      <td>1</td>\n",
              "      <td>0.055556</td>\n",
              "      <td>0.0</td>\n",
              "      <td>23</td>\n",
              "      <td>2.867914</td>\n",
              "      <td>0.0</td>\n",
              "      <td>0.0</td>\n",
              "      <td>178</td>\n",
              "      <td>20</td>\n",
              "    </tr>\n",
              "  </tbody>\n",
              "</table>\n",
              "</div>\n",
              "      <button class=\"colab-df-convert\" onclick=\"convertToInteractive('df-97d1976a-672c-422b-a58d-4b438df4cced')\"\n",
              "              title=\"Convert this dataframe to an interactive table.\"\n",
              "              style=\"display:none;\">\n",
              "        \n",
              "  <svg xmlns=\"http://www.w3.org/2000/svg\" height=\"24px\"viewBox=\"0 0 24 24\"\n",
              "       width=\"24px\">\n",
              "    <path d=\"M0 0h24v24H0V0z\" fill=\"none\"/>\n",
              "    <path d=\"M18.56 5.44l.94 2.06.94-2.06 2.06-.94-2.06-.94-.94-2.06-.94 2.06-2.06.94zm-11 1L8.5 8.5l.94-2.06 2.06-.94-2.06-.94L8.5 2.5l-.94 2.06-2.06.94zm10 10l.94 2.06.94-2.06 2.06-.94-2.06-.94-.94-2.06-.94 2.06-2.06.94z\"/><path d=\"M17.41 7.96l-1.37-1.37c-.4-.4-.92-.59-1.43-.59-.52 0-1.04.2-1.43.59L10.3 9.45l-7.72 7.72c-.78.78-.78 2.05 0 2.83L4 21.41c.39.39.9.59 1.41.59.51 0 1.02-.2 1.41-.59l7.78-7.78 2.81-2.81c.8-.78.8-2.07 0-2.86zM5.41 20L4 18.59l7.72-7.72 1.47 1.35L5.41 20z\"/>\n",
              "  </svg>\n",
              "      </button>\n",
              "      \n",
              "  <style>\n",
              "    .colab-df-container {\n",
              "      display:flex;\n",
              "      flex-wrap:wrap;\n",
              "      gap: 12px;\n",
              "    }\n",
              "\n",
              "    .colab-df-convert {\n",
              "      background-color: #E8F0FE;\n",
              "      border: none;\n",
              "      border-radius: 50%;\n",
              "      cursor: pointer;\n",
              "      display: none;\n",
              "      fill: #1967D2;\n",
              "      height: 32px;\n",
              "      padding: 0 0 0 0;\n",
              "      width: 32px;\n",
              "    }\n",
              "\n",
              "    .colab-df-convert:hover {\n",
              "      background-color: #E2EBFA;\n",
              "      box-shadow: 0px 1px 2px rgba(60, 64, 67, 0.3), 0px 1px 3px 1px rgba(60, 64, 67, 0.15);\n",
              "      fill: #174EA6;\n",
              "    }\n",
              "\n",
              "    [theme=dark] .colab-df-convert {\n",
              "      background-color: #3B4455;\n",
              "      fill: #D2E3FC;\n",
              "    }\n",
              "\n",
              "    [theme=dark] .colab-df-convert:hover {\n",
              "      background-color: #434B5C;\n",
              "      box-shadow: 0px 1px 3px 1px rgba(0, 0, 0, 0.15);\n",
              "      filter: drop-shadow(0px 1px 2px rgba(0, 0, 0, 0.3));\n",
              "      fill: #FFFFFF;\n",
              "    }\n",
              "  </style>\n",
              "\n",
              "      <script>\n",
              "        const buttonEl =\n",
              "          document.querySelector('#df-97d1976a-672c-422b-a58d-4b438df4cced button.colab-df-convert');\n",
              "        buttonEl.style.display =\n",
              "          google.colab.kernel.accessAllowed ? 'block' : 'none';\n",
              "\n",
              "        async function convertToInteractive(key) {\n",
              "          const element = document.querySelector('#df-97d1976a-672c-422b-a58d-4b438df4cced');\n",
              "          const dataTable =\n",
              "            await google.colab.kernel.invokeFunction('convertToInteractive',\n",
              "                                                     [key], {});\n",
              "          if (!dataTable) return;\n",
              "\n",
              "          const docLinkHtml = 'Like what you see? Visit the ' +\n",
              "            '<a target=\"_blank\" href=https://colab.research.google.com/notebooks/data_table.ipynb>data table notebook</a>'\n",
              "            + ' to learn more about interactive tables.';\n",
              "          element.innerHTML = '';\n",
              "          dataTable['output_type'] = 'display_data';\n",
              "          await google.colab.output.renderOutput(dataTable, element);\n",
              "          const docLink = document.createElement('div');\n",
              "          docLink.innerHTML = docLinkHtml;\n",
              "          element.appendChild(docLink);\n",
              "        }\n",
              "      </script>\n",
              "    </div>\n",
              "  </div>\n",
              "  "
            ]
          },
          "metadata": {},
          "execution_count": 540
        }
      ]
    },
    {
      "cell_type": "code",
      "source": [
        "df = df.drop(['jumlah_view','rating'], axis=1)"
      ],
      "metadata": {
        "id": "SHhCx7sHboSJ"
      },
      "execution_count": null,
      "outputs": []
    },
    {
      "cell_type": "code",
      "source": [
        "#Check Correlation\n",
        "df.corr()"
      ],
      "metadata": {
        "colab": {
          "base_uri": "https://localhost:8080/",
          "height": 300
        },
        "id": "G0fcKMQPv5lr",
        "outputId": "4d4e14b0-71a9-4fac-b3f3-89ec4c1daa58"
      },
      "execution_count": null,
      "outputs": [
        {
          "output_type": "execute_result",
          "data": {
            "text/plain": [
              "                   city  gold_merchant  jumlah_review  location     price  \\\n",
              "city           1.000000      -0.034136      -0.161816  1.000000  0.090800   \n",
              "gold_merchant -0.034136       1.000000      -0.282675 -0.034136 -0.180056   \n",
              "jumlah_review -0.161816      -0.282675       1.000000 -0.161816  0.048752   \n",
              "location       1.000000      -0.034136      -0.161816  1.000000  0.090800   \n",
              "price          0.090800      -0.180056       0.048752  0.090800  1.000000   \n",
              "quantity_sold -0.115079      -0.213825       0.569030 -0.115079  0.079663   \n",
              "shop_name      0.117555      -0.122836      -0.044164  0.117555 -0.002082   \n",
              "subcategory   -0.029326      -0.034589       0.061986 -0.029326  0.153987   \n",
              "\n",
              "               quantity_sold  shop_name  subcategory  \n",
              "city               -0.115079   0.117555    -0.029326  \n",
              "gold_merchant      -0.213825  -0.122836    -0.034589  \n",
              "jumlah_review       0.569030  -0.044164     0.061986  \n",
              "location           -0.115079   0.117555    -0.029326  \n",
              "price               0.079663  -0.002082     0.153987  \n",
              "quantity_sold       1.000000  -0.018891     0.097685  \n",
              "shop_name          -0.018891   1.000000     0.092682  \n",
              "subcategory         0.097685   0.092682     1.000000  "
            ],
            "text/html": [
              "\n",
              "  <div id=\"df-dfc486cf-b584-41f8-b66b-38df7e9000c3\">\n",
              "    <div class=\"colab-df-container\">\n",
              "      <div>\n",
              "<style scoped>\n",
              "    .dataframe tbody tr th:only-of-type {\n",
              "        vertical-align: middle;\n",
              "    }\n",
              "\n",
              "    .dataframe tbody tr th {\n",
              "        vertical-align: top;\n",
              "    }\n",
              "\n",
              "    .dataframe thead th {\n",
              "        text-align: right;\n",
              "    }\n",
              "</style>\n",
              "<table border=\"1\" class=\"dataframe\">\n",
              "  <thead>\n",
              "    <tr style=\"text-align: right;\">\n",
              "      <th></th>\n",
              "      <th>city</th>\n",
              "      <th>gold_merchant</th>\n",
              "      <th>jumlah_review</th>\n",
              "      <th>location</th>\n",
              "      <th>price</th>\n",
              "      <th>quantity_sold</th>\n",
              "      <th>shop_name</th>\n",
              "      <th>subcategory</th>\n",
              "    </tr>\n",
              "  </thead>\n",
              "  <tbody>\n",
              "    <tr>\n",
              "      <th>city</th>\n",
              "      <td>1.000000</td>\n",
              "      <td>-0.034136</td>\n",
              "      <td>-0.161816</td>\n",
              "      <td>1.000000</td>\n",
              "      <td>0.090800</td>\n",
              "      <td>-0.115079</td>\n",
              "      <td>0.117555</td>\n",
              "      <td>-0.029326</td>\n",
              "    </tr>\n",
              "    <tr>\n",
              "      <th>gold_merchant</th>\n",
              "      <td>-0.034136</td>\n",
              "      <td>1.000000</td>\n",
              "      <td>-0.282675</td>\n",
              "      <td>-0.034136</td>\n",
              "      <td>-0.180056</td>\n",
              "      <td>-0.213825</td>\n",
              "      <td>-0.122836</td>\n",
              "      <td>-0.034589</td>\n",
              "    </tr>\n",
              "    <tr>\n",
              "      <th>jumlah_review</th>\n",
              "      <td>-0.161816</td>\n",
              "      <td>-0.282675</td>\n",
              "      <td>1.000000</td>\n",
              "      <td>-0.161816</td>\n",
              "      <td>0.048752</td>\n",
              "      <td>0.569030</td>\n",
              "      <td>-0.044164</td>\n",
              "      <td>0.061986</td>\n",
              "    </tr>\n",
              "    <tr>\n",
              "      <th>location</th>\n",
              "      <td>1.000000</td>\n",
              "      <td>-0.034136</td>\n",
              "      <td>-0.161816</td>\n",
              "      <td>1.000000</td>\n",
              "      <td>0.090800</td>\n",
              "      <td>-0.115079</td>\n",
              "      <td>0.117555</td>\n",
              "      <td>-0.029326</td>\n",
              "    </tr>\n",
              "    <tr>\n",
              "      <th>price</th>\n",
              "      <td>0.090800</td>\n",
              "      <td>-0.180056</td>\n",
              "      <td>0.048752</td>\n",
              "      <td>0.090800</td>\n",
              "      <td>1.000000</td>\n",
              "      <td>0.079663</td>\n",
              "      <td>-0.002082</td>\n",
              "      <td>0.153987</td>\n",
              "    </tr>\n",
              "    <tr>\n",
              "      <th>quantity_sold</th>\n",
              "      <td>-0.115079</td>\n",
              "      <td>-0.213825</td>\n",
              "      <td>0.569030</td>\n",
              "      <td>-0.115079</td>\n",
              "      <td>0.079663</td>\n",
              "      <td>1.000000</td>\n",
              "      <td>-0.018891</td>\n",
              "      <td>0.097685</td>\n",
              "    </tr>\n",
              "    <tr>\n",
              "      <th>shop_name</th>\n",
              "      <td>0.117555</td>\n",
              "      <td>-0.122836</td>\n",
              "      <td>-0.044164</td>\n",
              "      <td>0.117555</td>\n",
              "      <td>-0.002082</td>\n",
              "      <td>-0.018891</td>\n",
              "      <td>1.000000</td>\n",
              "      <td>0.092682</td>\n",
              "    </tr>\n",
              "    <tr>\n",
              "      <th>subcategory</th>\n",
              "      <td>-0.029326</td>\n",
              "      <td>-0.034589</td>\n",
              "      <td>0.061986</td>\n",
              "      <td>-0.029326</td>\n",
              "      <td>0.153987</td>\n",
              "      <td>0.097685</td>\n",
              "      <td>0.092682</td>\n",
              "      <td>1.000000</td>\n",
              "    </tr>\n",
              "  </tbody>\n",
              "</table>\n",
              "</div>\n",
              "      <button class=\"colab-df-convert\" onclick=\"convertToInteractive('df-dfc486cf-b584-41f8-b66b-38df7e9000c3')\"\n",
              "              title=\"Convert this dataframe to an interactive table.\"\n",
              "              style=\"display:none;\">\n",
              "        \n",
              "  <svg xmlns=\"http://www.w3.org/2000/svg\" height=\"24px\"viewBox=\"0 0 24 24\"\n",
              "       width=\"24px\">\n",
              "    <path d=\"M0 0h24v24H0V0z\" fill=\"none\"/>\n",
              "    <path d=\"M18.56 5.44l.94 2.06.94-2.06 2.06-.94-2.06-.94-.94-2.06-.94 2.06-2.06.94zm-11 1L8.5 8.5l.94-2.06 2.06-.94-2.06-.94L8.5 2.5l-.94 2.06-2.06.94zm10 10l.94 2.06.94-2.06 2.06-.94-2.06-.94-.94-2.06-.94 2.06-2.06.94z\"/><path d=\"M17.41 7.96l-1.37-1.37c-.4-.4-.92-.59-1.43-.59-.52 0-1.04.2-1.43.59L10.3 9.45l-7.72 7.72c-.78.78-.78 2.05 0 2.83L4 21.41c.39.39.9.59 1.41.59.51 0 1.02-.2 1.41-.59l7.78-7.78 2.81-2.81c.8-.78.8-2.07 0-2.86zM5.41 20L4 18.59l7.72-7.72 1.47 1.35L5.41 20z\"/>\n",
              "  </svg>\n",
              "      </button>\n",
              "      \n",
              "  <style>\n",
              "    .colab-df-container {\n",
              "      display:flex;\n",
              "      flex-wrap:wrap;\n",
              "      gap: 12px;\n",
              "    }\n",
              "\n",
              "    .colab-df-convert {\n",
              "      background-color: #E8F0FE;\n",
              "      border: none;\n",
              "      border-radius: 50%;\n",
              "      cursor: pointer;\n",
              "      display: none;\n",
              "      fill: #1967D2;\n",
              "      height: 32px;\n",
              "      padding: 0 0 0 0;\n",
              "      width: 32px;\n",
              "    }\n",
              "\n",
              "    .colab-df-convert:hover {\n",
              "      background-color: #E2EBFA;\n",
              "      box-shadow: 0px 1px 2px rgba(60, 64, 67, 0.3), 0px 1px 3px 1px rgba(60, 64, 67, 0.15);\n",
              "      fill: #174EA6;\n",
              "    }\n",
              "\n",
              "    [theme=dark] .colab-df-convert {\n",
              "      background-color: #3B4455;\n",
              "      fill: #D2E3FC;\n",
              "    }\n",
              "\n",
              "    [theme=dark] .colab-df-convert:hover {\n",
              "      background-color: #434B5C;\n",
              "      box-shadow: 0px 1px 3px 1px rgba(0, 0, 0, 0.15);\n",
              "      filter: drop-shadow(0px 1px 2px rgba(0, 0, 0, 0.3));\n",
              "      fill: #FFFFFF;\n",
              "    }\n",
              "  </style>\n",
              "\n",
              "      <script>\n",
              "        const buttonEl =\n",
              "          document.querySelector('#df-dfc486cf-b584-41f8-b66b-38df7e9000c3 button.colab-df-convert');\n",
              "        buttonEl.style.display =\n",
              "          google.colab.kernel.accessAllowed ? 'block' : 'none';\n",
              "\n",
              "        async function convertToInteractive(key) {\n",
              "          const element = document.querySelector('#df-dfc486cf-b584-41f8-b66b-38df7e9000c3');\n",
              "          const dataTable =\n",
              "            await google.colab.kernel.invokeFunction('convertToInteractive',\n",
              "                                                     [key], {});\n",
              "          if (!dataTable) return;\n",
              "\n",
              "          const docLinkHtml = 'Like what you see? Visit the ' +\n",
              "            '<a target=\"_blank\" href=https://colab.research.google.com/notebooks/data_table.ipynb>data table notebook</a>'\n",
              "            + ' to learn more about interactive tables.';\n",
              "          element.innerHTML = '';\n",
              "          dataTable['output_type'] = 'display_data';\n",
              "          await google.colab.output.renderOutput(dataTable, element);\n",
              "          const docLink = document.createElement('div');\n",
              "          docLink.innerHTML = docLinkHtml;\n",
              "          element.appendChild(docLink);\n",
              "        }\n",
              "      </script>\n",
              "    </div>\n",
              "  </div>\n",
              "  "
            ]
          },
          "metadata": {},
          "execution_count": 542
        }
      ]
    },
    {
      "cell_type": "code",
      "source": [
        "plt.figure(figsize=(14,11))\n",
        "sns.heatmap(df.corr(),annot=True)\n",
        "plt.show()"
      ],
      "metadata": {
        "colab": {
          "base_uri": "https://localhost:8080/",
          "height": 651
        },
        "id": "8Z2IGTIzdgit",
        "outputId": "42d3489f-ef11-4642-c879-a4964b2df827"
      },
      "execution_count": null,
      "outputs": [
        {
          "output_type": "display_data",
          "data": {
            "text/plain": [
              "<Figure size 1008x792 with 2 Axes>"
            ],
            "image/png": "[encoded data removed]"
          },
          "metadata": {
            "needs_background": "light"
          }
        }
      ]
    },
    {
      "cell_type": "code",
      "source": [
        "plt.figure(figsize = (10,7))\n",
        "sns.regplot(x='jumlah_review',y='quantity_sold', data=df)\n",
        "plt.show()"
      ],
      "metadata": {
        "colab": {
          "base_uri": "https://localhost:8080/",
          "height": 443
        },
        "id": "cU-3jdDMwBSs",
        "outputId": "90e67660-b528-4c89-dab6-4f75724a0c76"
      },
      "execution_count": null,
      "outputs": [
        {
          "output_type": "display_data",
          "data": {
            "text/plain": [
              "<Figure size 720x504 with 1 Axes>"
            ],
            "image/png": "[encoded data removed]"
          },
          "metadata": {
            "needs_background": "light"
          }
        }
      ]
    },
    {
      "cell_type": "markdown",
      "source": [
        "## **Modelling and Evaluation**\n",
        "\n",
        "---\n",
        "\n"
      ],
      "metadata": {
        "id": "WYXYyFcnq5bh"
      }
    },
    {
      "cell_type": "markdown",
      "source": [
        "### **Train Test Split**\n",
        "\n",
        "---\n",
        "\n"
      ],
      "metadata": {
        "id": "2w3WqsMOK33W"
      }
    },
    {
      "cell_type": "code",
      "source": [
        "X = df.drop(['gold_merchant','price'], axis=1)\n",
        "y = df['gold_merchant']\n",
        "\n",
        "x_train, x_test, y_train, y_test = train_test_split(X, y, test_size=0.3, random_state=42)\n",
        "\n",
        "print('Jumlah baris dan kolom dari x_train adalah:', x_train.shape,', sedangkan Jumlah baris dan kolom dari y_train adalah:', y_train.shape)\n",
        "print('Prosentase Gold Merchant di data Training adalah:')\n",
        "print(y_train.value_counts(normalize=True))\n",
        "print('\\nJumlah baris dan kolom dari x_test adalah:', x_test.shape,', sedangkan Jumlah baris dan kolom dari y_test adalah:', y_test.shape)\n",
        "print('Prosentase Gold Merchant di data Testing adalah:')\n",
        "print(y_test.value_counts(normalize=True))"
      ],
      "metadata": {
        "colab": {
          "base_uri": "https://localhost:8080/"
        },
        "id": "AdVZMH7LK8pf",
        "outputId": "25bbb669-4590-44da-d4e0-cac2ea5a692f"
      },
      "execution_count": null,
      "outputs": [
        {
          "output_type": "stream",
          "name": "stdout",
          "text": [
            "Jumlah baris dan kolom dari x_train adalah: (1896, 6) , sedangkan Jumlah baris dan kolom dari y_train adalah: (1896,)\n",
            "Prosentase Gold Merchant di data Training adalah:\n",
            "1    0.530063\n",
            "0    0.469937\n",
            "Name: gold_merchant, dtype: float64\n",
            "\n",
            "Jumlah baris dan kolom dari x_test adalah: (813, 6) , sedangkan Jumlah baris dan kolom dari y_test adalah: (813,)\n",
            "Prosentase Gold Merchant di data Testing adalah:\n",
            "0    0.503075\n",
            "1    0.496925\n",
            "Name: gold_merchant, dtype: float64\n"
          ]
        }
      ]
    },
    {
      "cell_type": "code",
      "source": [
        "X_new = SelectKBest(chi2, k=2).fit_transform(X, y)\n",
        "X_new.shape"
      ],
      "metadata": {
        "colab": {
          "base_uri": "https://localhost:8080/"
        },
        "id": "OE_truEVkl40",
        "outputId": "b9941716-d408-4799-d210-75efa214f8c9"
      },
      "execution_count": null,
      "outputs": [
        {
          "output_type": "execute_result",
          "data": {
            "text/plain": [
              "(2709, 2)"
            ]
          },
          "metadata": {},
          "execution_count": 546
        }
      ]
    },
    {
      "cell_type": "code",
      "source": [
        "x_train, x_test, y_train, y_test = train_test_split(X_new, y, test_size=0.3, random_state=42)\n",
        "\n",
        "print('Jumlah baris dan kolom dari x_train adalah:', x_train.shape,', sedangkan Jumlah baris dan kolom dari y_train adalah:', y_train.shape)\n",
        "print('Prosentase Gold Merchant di data Training adalah:')\n",
        "print(y_train.value_counts(normalize=True))\n",
        "print('\\nJumlah baris dan kolom dari x_test adalah:', x_test.shape,', sedangkan Jumlah baris dan kolom dari y_test adalah:', y_test.shape)\n",
        "print('Prosentase Gold Merchant di data Testing adalah:')\n",
        "print(y_test.value_counts(normalize=True))"
      ],
      "metadata": {
        "colab": {
          "base_uri": "https://localhost:8080/"
        },
        "id": "tzc2gAQtkw7r",
        "outputId": "26ff49a0-a437-4902-c444-4c5326c4c1ea"
      },
      "execution_count": null,
      "outputs": [
        {
          "output_type": "stream",
          "name": "stdout",
          "text": [
            "Jumlah baris dan kolom dari x_train adalah: (1896, 2) , sedangkan Jumlah baris dan kolom dari y_train adalah: (1896,)\n",
            "Prosentase Gold Merchant di data Training adalah:\n",
            "1    0.530063\n",
            "0    0.469937\n",
            "Name: gold_merchant, dtype: float64\n",
            "\n",
            "Jumlah baris dan kolom dari x_test adalah: (813, 2) , sedangkan Jumlah baris dan kolom dari y_test adalah: (813,)\n",
            "Prosentase Gold Merchant di data Testing adalah:\n",
            "0    0.503075\n",
            "1    0.496925\n",
            "Name: gold_merchant, dtype: float64\n"
          ]
        }
      ]
    },
    {
      "cell_type": "markdown",
      "source": [
        "### **Algoritma Klasifikasi: Logistic Regression**\n",
        "\n",
        "---\n",
        "\n"
      ],
      "metadata": {
        "id": "YJbLe5cEK9Eq"
      }
    },
    {
      "cell_type": "code",
      "source": [
        "#Train the model\n",
        "log_model = LogisticRegression().fit(x_train, y_train)\n",
        "#Predict\n",
        "y_train_pred = log_model.predict(x_train)\n",
        "\n",
        "#Print classification report \n",
        "print('Classification Report Training Model (Logistic Regression) :')\n",
        "print(classification_report(y_train, y_train_pred))\n",
        "print('\\nAccuracy Score Training (Logistic Regression): %.3f%%' % (accuracy_score(y_train, y_train_pred)*100.0))\n",
        "print('\\n')\n",
        "\n",
        "# Predict\n",
        "y_test_pred = log_model.predict(x_test)\n",
        "\n",
        "# Print classification report \n",
        "print('\\nClassification Report Testing Model (Logistic Regression):')\n",
        "print(classification_report(y_test, y_test_pred))\n",
        "print('\\nAccuracy Score Testing (Logistic Regression): %.3f%%' % (accuracy_score(y_test, y_test_pred)*100.0))"
      ],
      "metadata": {
        "colab": {
          "base_uri": "https://localhost:8080/"
        },
        "id": "n_d2WEAaLJvd",
        "outputId": "9401c156-3db3-494b-ea8d-241452ab58a8"
      },
      "execution_count": null,
      "outputs": [
        {
          "output_type": "stream",
          "name": "stdout",
          "text": [
            "Classification Report Training Model (Logistic Regression) :\n",
            "              precision    recall  f1-score   support\n",
            "\n",
            "           0       0.56      0.41      0.48       891\n",
            "           1       0.58      0.71      0.64      1005\n",
            "\n",
            "    accuracy                           0.57      1896\n",
            "   macro avg       0.57      0.56      0.56      1896\n",
            "weighted avg       0.57      0.57      0.56      1896\n",
            "\n",
            "\n",
            "Accuracy Score Training (Logistic Regression): 57.278%\n",
            "\n",
            "\n",
            "\n",
            "Classification Report Testing Model (Logistic Regression):\n",
            "              precision    recall  f1-score   support\n",
            "\n",
            "           0       0.61      0.42      0.50       409\n",
            "           1       0.55      0.73      0.63       404\n",
            "\n",
            "    accuracy                           0.57       813\n",
            "   macro avg       0.58      0.57      0.56       813\n",
            "weighted avg       0.58      0.57      0.56       813\n",
            "\n",
            "\n",
            "Accuracy Score Testing (Logistic Regression): 57.319%\n"
          ]
        }
      ]
    },
    {
      "cell_type": "code",
      "source": [
        "# Form confusion matrix as a DataFrame\n",
        "confusion_matrix_df = pd.DataFrame((confusion_matrix(y_test, y_test_pred)), ('Not Gold Merchant', 'Gold Merchant'), ('Not Gold Merchant', 'Gold Merchant'))\n",
        "\n",
        "# Plot confusion matrix\n",
        "plt.figure()\n",
        "heatmap = sns.heatmap(confusion_matrix_df, annot=True, annot_kws={'size': 14}, fmt='d', cmap='YlGnBu')\n",
        "heatmap.yaxis.set_ticklabels(heatmap.yaxis.get_ticklabels(), rotation=0, ha='right', fontsize=12)\n",
        "heatmap.xaxis.set_ticklabels(heatmap.xaxis.get_ticklabels(), rotation=0, ha='center', fontsize=12)\n",
        "\n",
        "plt.title('Confusion Matrix for Testing Model\\n(Logistic Regression)', fontsize=18, color='darkblue')\n",
        "plt.ylabel('True label', fontsize=14)\n",
        "plt.xlabel('Predicted label', fontsize=14)\n",
        "plt.tight_layout()\n",
        "plt.show()"
      ],
      "metadata": {
        "colab": {
          "base_uri": "https://localhost:8080/",
          "height": 297
        },
        "id": "dzyripe3tyIw",
        "outputId": "d97346ec-9e89-446b-cc12-bef23e09ac3f"
      },
      "execution_count": null,
      "outputs": [
        {
          "output_type": "display_data",
          "data": {
            "text/plain": [
              "<Figure size 432x288 with 2 Axes>"
            ],
            "image/png": "[encoded data removed]"
          },
          "metadata": {
            "needs_background": "light"
          }
        }
      ]
    },
    {
      "cell_type": "markdown",
      "source": [
        "### **Algoritma Klasifikasi: KNeighborsClassifier**\n",
        "\n",
        "---"
      ],
      "metadata": {
        "id": "ZRmvxj_DLKK8"
      }
    },
    {
      "cell_type": "code",
      "source": [
        "knn_model = KNeighborsClassifier().fit(x_train, y_train)\n",
        "\n",
        "#Predict\n",
        "y_train_pred = knn_model.predict(x_train)\n",
        "\n",
        "#Print classification report \n",
        "print('Classification Report Training Model (KNeighbors Classifier):')\n",
        "print(classification_report(y_train, y_train_pred))\n",
        "print('\\nAccuracy Score Training (KNeighbors Classifier): %.3f%%' % (accuracy_score(y_train, y_train_pred)*100.0))\n",
        "print('\\n')\n",
        "\n",
        "# Predict\n",
        "y_test_pred = knn_model.predict(x_test)\n",
        "\n",
        "# Print classification report \n",
        "print('Classification Report Testing Model (KNeighbors Classifier):')\n",
        "print(classification_report(y_test, y_test_pred))\n",
        "print('\\nAccuracy Score Testing (KNeighbors Classifier): %.3f%%' % (accuracy_score(y_test, y_test_pred)*100.0))"
      ],
      "metadata": {
        "colab": {
          "base_uri": "https://localhost:8080/"
        },
        "id": "VJGYatOPLPge",
        "outputId": "c5334011-06d3-4578-a71d-2c56442f319a"
      },
      "execution_count": null,
      "outputs": [
        {
          "output_type": "stream",
          "name": "stdout",
          "text": [
            "Classification Report Training Model (KNeighbors Classifier):\n",
            "              precision    recall  f1-score   support\n",
            "\n",
            "           0       0.93      0.89      0.91       891\n",
            "           1       0.91      0.94      0.92      1005\n",
            "\n",
            "    accuracy                           0.92      1896\n",
            "   macro avg       0.92      0.91      0.92      1896\n",
            "weighted avg       0.92      0.92      0.92      1896\n",
            "\n",
            "\n",
            "Accuracy Score Training (KNeighbors Classifier): 91.614%\n",
            "\n",
            "\n",
            "Classification Report Testing Model (KNeighbors Classifier):\n",
            "              precision    recall  f1-score   support\n",
            "\n",
            "           0       0.87      0.82      0.85       409\n",
            "           1       0.83      0.88      0.85       404\n",
            "\n",
            "    accuracy                           0.85       813\n",
            "   macro avg       0.85      0.85      0.85       813\n",
            "weighted avg       0.85      0.85      0.85       813\n",
            "\n",
            "\n",
            "Accuracy Score Testing (KNeighbors Classifier): 85.117%\n"
          ]
        }
      ]
    },
    {
      "cell_type": "code",
      "source": [
        "# Form confusion matrix as a DataFrame\n",
        "confusion_matrix_df = pd.DataFrame((confusion_matrix(y_test, y_test_pred)), ('Not Gold Merchant', 'Gold Merchant'), ('Not Gold Merchant', 'Gold Merchant'))\n",
        "\n",
        "# Plot confusion matrix\n",
        "plt.figure()\n",
        "heatmap = sns.heatmap(confusion_matrix_df, annot=True, annot_kws={'size': 14}, fmt='d', cmap='YlGnBu')\n",
        "heatmap.yaxis.set_ticklabels(heatmap.yaxis.get_ticklabels(), rotation=0, ha='right', fontsize=12)\n",
        "heatmap.xaxis.set_ticklabels(heatmap.xaxis.get_ticklabels(), rotation=0, ha='center', fontsize=12)\n",
        "\n",
        "plt.title('Confusion Matrix for Testing Model\\n(KNeighbors)', fontsize=18, color='darkblue')\n",
        "plt.ylabel('True label', fontsize=14)\n",
        "plt.xlabel('Predicted label', fontsize=14)\n",
        "plt.tight_layout()\n",
        "plt.show()"
      ],
      "metadata": {
        "colab": {
          "base_uri": "https://localhost:8080/",
          "height": 297
        },
        "id": "Ty1mBt4PtrpX",
        "outputId": "78888529-bc53-4bec-aa25-ffc9e5544f2e"
      },
      "execution_count": null,
      "outputs": [
        {
          "output_type": "display_data",
          "data": {
            "text/plain": [
              "<Figure size 432x288 with 2 Axes>"
            ],
            "image/png": "[encoded data removed]"
          },
          "metadata": {
            "needs_background": "light"
          }
        }
      ]
    },
    {
      "cell_type": "markdown",
      "source": [
        "### **Algoritma Klasifikasi: RandomForestClassifier**\n",
        "\n",
        "---"
      ],
      "metadata": {
        "id": "rpLb03ZMLP4f"
      }
    },
    {
      "cell_type": "code",
      "source": [
        "#Train the model\n",
        "rdf_model = RandomForestClassifier().fit(x_train, y_train)\n",
        "\n",
        "#Predict\n",
        "y_train_pred = rdf_model.predict(x_train)\n",
        "\n",
        "#Print classification report \n",
        "print('Classification Report Training Model (Random Forest Classifier):')\n",
        "print(classification_report(y_train, y_train_pred))\n",
        "print('\\nAccuracy Score Training (Random Forest Classifier): %.3f%%' % (accuracy_score(y_train, y_train_pred)*100.0))\n",
        "print('\\n')\n",
        "\n",
        "# Predict\n",
        "y_test_pred = rdf_model.predict(x_test)\n",
        "\n",
        "# Print classification report \n",
        "print('Classification Report Testing Model (Random Forest Classifier):')\n",
        "print(classification_report(y_test, y_test_pred))\n",
        "print('\\nAccuracy Score Testing (Random Forest Classifier): %.3f%%' % (accuracy_score(y_test, y_test_pred)*100.0))"
      ],
      "metadata": {
        "colab": {
          "base_uri": "https://localhost:8080/"
        },
        "id": "Xxf-NEW9Ld3K",
        "outputId": "99cee3a2-11e1-4b23-c8cb-b5e3df90b4c0"
      },
      "execution_count": null,
      "outputs": [
        {
          "output_type": "stream",
          "name": "stdout",
          "text": [
            "Classification Report Training Model (Random Forest Classifier):\n",
            "              precision    recall  f1-score   support\n",
            "\n",
            "           0       1.00      1.00      1.00       891\n",
            "           1       1.00      1.00      1.00      1005\n",
            "\n",
            "    accuracy                           1.00      1896\n",
            "   macro avg       1.00      1.00      1.00      1896\n",
            "weighted avg       1.00      1.00      1.00      1896\n",
            "\n",
            "\n",
            "Accuracy Score Training (Random Forest Classifier): 99.895%\n",
            "\n",
            "\n",
            "Classification Report Testing Model (Random Forest Classifier):\n",
            "              precision    recall  f1-score   support\n",
            "\n",
            "           0       0.92      0.89      0.90       409\n",
            "           1       0.89      0.92      0.91       404\n",
            "\n",
            "    accuracy                           0.91       813\n",
            "   macro avg       0.91      0.91      0.91       813\n",
            "weighted avg       0.91      0.91      0.91       813\n",
            "\n",
            "\n",
            "Accuracy Score Testing (Random Forest Classifier): 90.529%\n"
          ]
        }
      ]
    },
    {
      "cell_type": "code",
      "source": [
        "# Form confusion matrix as a DataFrame\n",
        "confusion_matrix_df = pd.DataFrame((confusion_matrix(y_test, y_test_pred)), ('Not Gold Merchant', 'Gold Merchant'), ('Not Gold Merchant', 'Gold Merchant'))\n",
        "\n",
        "# Plot confusion matrix\n",
        "plt.figure()\n",
        "heatmap = sns.heatmap(confusion_matrix_df, annot=True, annot_kws={'size': 14}, fmt='d', cmap='YlGnBu')\n",
        "heatmap.yaxis.set_ticklabels(heatmap.yaxis.get_ticklabels(), rotation=0, ha='right', fontsize=12)\n",
        "heatmap.xaxis.set_ticklabels(heatmap.xaxis.get_ticklabels(), rotation=0, ha='center', fontsize=12)\n",
        "\n",
        "plt.title('Confusion Matrix for Testing Model\\n(Random Forest)', fontsize=18, color='darkblue')\n",
        "plt.ylabel('True label', fontsize=14)\n",
        "plt.xlabel('Predicted label', fontsize=14)\n",
        "plt.tight_layout()\n",
        "plt.show()"
      ],
      "metadata": {
        "colab": {
          "base_uri": "https://localhost:8080/",
          "height": 297
        },
        "id": "vb4Jy_qktX1k",
        "outputId": "84f48965-a2f1-4269-fbd7-ecaeae702909"
      },
      "execution_count": null,
      "outputs": [
        {
          "output_type": "display_data",
          "data": {
            "text/plain": [
              "<Figure size 432x288 with 2 Axes>"
            ],
            "image/png": "[encoded data removed]"
          },
          "metadata": {
            "needs_background": "light"
          }
        }
      ]
    },
    {
      "cell_type": "markdown",
      "source": [
        "### **Algoritma Klasifikasi: DecisionTreeClassifier**\n",
        "\n",
        "---\n",
        "\n"
      ],
      "metadata": {
        "id": "TP4yfoGlLemr"
      }
    },
    {
      "cell_type": "code",
      "source": [
        "dct_model = DecisionTreeClassifier().fit(x_train, y_train)\n",
        "\n",
        "# Predict\n",
        "y_train_pred = dct_model.predict(x_train)\n",
        "\n",
        "# Print classification report \n",
        "print('Classification Report Training Model (Decision Tree Classifier):')\n",
        "print(classification_report(y_train, y_train_pred))\n",
        "print('\\nAccuracy Score Training (Decision Tree Classifier): %.3f%%' % (accuracy_score(y_train, y_train_pred)*100.0))\n",
        "print('\\n')\n",
        "\n",
        "# Predict\n",
        "y_test_pred = dct_model.predict(x_test)\n",
        "\n",
        "# Print classification report \n",
        "print('Classification Report Testing Model (Decision Tree Classifier):')\n",
        "print(classification_report(y_test, y_test_pred))\n",
        "print('\\nAccuracy Score Testing (Decision Tree Classifier): %.3f%%' % (accuracy_score(y_test, y_test_pred)*100.0))"
      ],
      "metadata": {
        "colab": {
          "base_uri": "https://localhost:8080/"
        },
        "id": "uJ_19MrZLr5T",
        "outputId": "d70e3502-1f10-47d8-b37f-c7e0daf74b46"
      },
      "execution_count": null,
      "outputs": [
        {
          "output_type": "stream",
          "name": "stdout",
          "text": [
            "Classification Report Training Model (Decision Tree Classifier):\n",
            "              precision    recall  f1-score   support\n",
            "\n",
            "           0       1.00      1.00      1.00       891\n",
            "           1       1.00      1.00      1.00      1005\n",
            "\n",
            "    accuracy                           1.00      1896\n",
            "   macro avg       1.00      1.00      1.00      1896\n",
            "weighted avg       1.00      1.00      1.00      1896\n",
            "\n",
            "\n",
            "Accuracy Score Training (Decision Tree Classifier): 99.895%\n",
            "\n",
            "\n",
            "Classification Report Testing Model (Decision Tree Classifier):\n",
            "              precision    recall  f1-score   support\n",
            "\n",
            "           0       0.93      0.89      0.91       409\n",
            "           1       0.89      0.93      0.91       404\n",
            "\n",
            "    accuracy                           0.91       813\n",
            "   macro avg       0.91      0.91      0.91       813\n",
            "weighted avg       0.91      0.91      0.91       813\n",
            "\n",
            "\n",
            "Accuracy Score Testing (Decision Tree Classifier): 91.021%\n"
          ]
        }
      ]
    },
    {
      "cell_type": "code",
      "source": [
        "# Form confusion matrix as a DataFrame\n",
        "confusion_matrix_df = pd.DataFrame((confusion_matrix(y_test, y_test_pred)), ('Not Gold Merchant', 'Gold Merchant'), ('Not Gold Merchant', 'Gold Merchant'))\n",
        "\n",
        "# Plot confusion matrix\n",
        "plt.figure()\n",
        "heatmap = sns.heatmap(confusion_matrix_df, annot=True, annot_kws={'size': 14}, fmt='d', cmap='YlGnBu')\n",
        "heatmap.yaxis.set_ticklabels(heatmap.yaxis.get_ticklabels(), rotation=0, ha='right', fontsize=12)\n",
        "heatmap.xaxis.set_ticklabels(heatmap.xaxis.get_ticklabels(), rotation=0, ha='center', fontsize=12)\n",
        "\n",
        "plt.title('Confusion Matrix for Testing Model\\n(Decision Tree Classifier)', fontsize=18, color='darkblue')\n",
        "plt.ylabel('True label', fontsize=14)\n",
        "plt.xlabel('Predicted label', fontsize=14)\n",
        "plt.tight_layout()\n",
        "plt.show()"
      ],
      "metadata": {
        "colab": {
          "base_uri": "https://localhost:8080/",
          "height": 297
        },
        "id": "bmK7sHrEszqe",
        "outputId": "30745213-b97d-4454-86ae-d38674134fe3"
      },
      "execution_count": null,
      "outputs": [
        {
          "output_type": "display_data",
          "data": {
            "text/plain": [
              "<Figure size 432x288 with 2 Axes>"
            ],
            "image/png": "[encoded data removed]"
          },
          "metadata": {
            "needs_background": "light"
          }
        }
      ]
    },
    {
      "cell_type": "markdown",
      "source": [
        "### **Algoritma Klasifikasi GradientBoostingClassifier**\n",
        "\n",
        "---\n",
        "\n"
      ],
      "metadata": {
        "id": "clMxWYFOLsUM"
      }
    },
    {
      "cell_type": "code",
      "source": [
        "#Train the model\n",
        "gbt_model = GradientBoostingClassifier().fit(x_train, y_train)\n",
        "\n",
        "# Predict\n",
        "y_train_pred = gbt_model.predict(x_train)\n",
        "\n",
        "# Print classification report \n",
        "print('Classification Report Training Model (Gradient Boosting):')\n",
        "print(classification_report(y_train, y_train_pred))\n",
        "print('\\nAccuracy Score Training (Gradient Boosting): %.3f%%' % (accuracy_score(y_train, y_train_pred)*100.0))\n",
        "print('\\n')\n",
        "\n",
        "# Predict\n",
        "y_test_pred = gbt_model.predict(x_test)\n",
        "\n",
        "# Print classification report \n",
        "print('Classification Report Testing Model (Gradient Boosting):')\n",
        "print(classification_report(y_test, y_test_pred))\n",
        "print('\\nAccuracy Score Testing (Gradient Boosting): %.3f%%' % (accuracy_score(y_test, y_test_pred)*100.0))"
      ],
      "metadata": {
        "colab": {
          "base_uri": "https://localhost:8080/"
        },
        "id": "UH4pUF5zLygN",
        "outputId": "cd81b1ea-78fd-46a1-8787-eefad29da9bd"
      },
      "execution_count": null,
      "outputs": [
        {
          "output_type": "stream",
          "name": "stdout",
          "text": [
            "Classification Report Training Model (Gradient Boosting):\n",
            "              precision    recall  f1-score   support\n",
            "\n",
            "           0       0.86      0.88      0.87       891\n",
            "           1       0.89      0.88      0.88      1005\n",
            "\n",
            "    accuracy                           0.88      1896\n",
            "   macro avg       0.88      0.88      0.88      1896\n",
            "weighted avg       0.88      0.88      0.88      1896\n",
            "\n",
            "\n",
            "Accuracy Score Training (Gradient Boosting): 87.764%\n",
            "\n",
            "\n",
            "Classification Report Testing Model (Gradient Boosting):\n",
            "              precision    recall  f1-score   support\n",
            "\n",
            "           0       0.80      0.82      0.81       409\n",
            "           1       0.82      0.80      0.81       404\n",
            "\n",
            "    accuracy                           0.81       813\n",
            "   macro avg       0.81      0.81      0.81       813\n",
            "weighted avg       0.81      0.81      0.81       813\n",
            "\n",
            "\n",
            "Accuracy Score Testing (Gradient Boosting): 80.935%\n"
          ]
        }
      ]
    },
    {
      "cell_type": "code",
      "source": [
        "# Form confusion matrix as a DataFrame\n",
        "confusion_matrix_df = pd.DataFrame((confusion_matrix(y_test, y_test_pred)), ('Not Gold Merchant', 'Gold Merchant'), ('Not Gold Merchant', 'Gold Merchant'))\n",
        "\n",
        "# Plot confusion matrix\n",
        "plt.figure()\n",
        "heatmap = sns.heatmap(confusion_matrix_df, annot=True, annot_kws={'size': 14}, fmt='d', cmap='YlGnBu')\n",
        "heatmap.yaxis.set_ticklabels(heatmap.yaxis.get_ticklabels(), rotation=0, ha='right', fontsize=12)\n",
        "heatmap.xaxis.set_ticklabels(heatmap.xaxis.get_ticklabels(), rotation=0, ha='center', fontsize=12)\n",
        "\n",
        "plt.title('Confusion Matrix for Testing Model\\n(Gradient Boosting)', fontsize=18, color='darkblue')\n",
        "plt.ylabel('True label', fontsize=14)\n",
        "plt.xlabel('Predicted label', fontsize=14)\n",
        "plt.tight_layout()\n",
        "plt.show()"
      ],
      "metadata": {
        "colab": {
          "base_uri": "https://localhost:8080/",
          "height": 297
        },
        "id": "gYnsJo8ArnBV",
        "outputId": "25714f50-d416-4774-f69c-9325e7f4985c"
      },
      "execution_count": null,
      "outputs": [
        {
          "output_type": "display_data",
          "data": {
            "text/plain": [
              "<Figure size 432x288 with 2 Axes>"
            ],
            "image/png": "[encoded data removed]"
          },
          "metadata": {
            "needs_background": "light"
          }
        }
      ]
    },
    {
      "cell_type": "markdown",
      "source": [
        "## **Validation**\n",
        "\n",
        "---\n",
        "\n"
      ],
      "metadata": {
        "id": "r7ufW7Jmom39"
      }
    },
    {
      "cell_type": "code",
      "source": [
        "kfold = KFold(n_splits=10,shuffle=True,random_state=42)\n",
        "model = log_model\n",
        "result = cross_val_score(model, X_new, y, cv=kfold, scoring='accuracy')\n",
        "print(\"Accuracy Logistic Regression Model: %.3f%% (%.3f%%)\" % (result.mean()*100.0, result.std()*100.0))"
      ],
      "metadata": {
        "colab": {
          "base_uri": "https://localhost:8080/"
        },
        "id": "LuXocyVtop4d",
        "outputId": "3274f3b1-4a56-4994-ba93-e8e2997d1983"
      },
      "execution_count": null,
      "outputs": [
        {
          "output_type": "stream",
          "name": "stdout",
          "text": [
            "Accuracy Logistic Regression Model: 54.595% (1.837%)\n"
          ]
        }
      ]
    },
    {
      "cell_type": "code",
      "source": [
        "kfold = KFold(n_splits=10,shuffle=True,random_state=42)\n",
        "model = knn_model\n",
        "result = cross_val_score(model, X_new, y, cv=kfold, scoring='accuracy')\n",
        "print(\"Accuracy KNeighbors Model: %.3f%% (%.3f%%)\" % (result.mean()*100.0, result.std()*100.0))"
      ],
      "metadata": {
        "colab": {
          "base_uri": "https://localhost:8080/"
        },
        "id": "WunCfsN-qsaH",
        "outputId": "eac0141c-bed4-4eb7-8aa7-0cb3fbe655a0"
      },
      "execution_count": null,
      "outputs": [
        {
          "output_type": "stream",
          "name": "stdout",
          "text": [
            "Accuracy KNeighbors Model: 87.892% (2.298%)\n"
          ]
        }
      ]
    },
    {
      "cell_type": "code",
      "source": [
        "kfold = KFold(n_splits=10,shuffle=True,random_state=42)\n",
        "model = rdf_model\n",
        "result = cross_val_score(model, X_new, y, cv=kfold, scoring='accuracy')\n",
        "print(\"Accuracy Random Forest Model: %.3f%% (%.3f%%)\" % (result.mean()*100.0, result.std()*100.0))"
      ],
      "metadata": {
        "colab": {
          "base_uri": "https://localhost:8080/"
        },
        "id": "7qyF8d1Rq0d3",
        "outputId": "cf203099-274e-4760-aabe-f1290a0eab2e"
      },
      "execution_count": null,
      "outputs": [
        {
          "output_type": "stream",
          "name": "stdout",
          "text": [
            "Accuracy Random Forest Model: 93.540% (1.451%)\n"
          ]
        }
      ]
    },
    {
      "cell_type": "code",
      "source": [
        "kfold = KFold(n_splits=10,shuffle=True,random_state=42)\n",
        "model = dct_model\n",
        "result = cross_val_score(model, X_new, y, cv=kfold, scoring='accuracy')\n",
        "print(\"Accuracy Decision Tree Model: %.3f%% (%.3f%%)\" % (result.mean()*100.0, result.std()*100.0))"
      ],
      "metadata": {
        "colab": {
          "base_uri": "https://localhost:8080/"
        },
        "id": "I2MW-HcYq9ry",
        "outputId": "5444222f-7355-4dd8-fe28-66fe5ebade1a"
      },
      "execution_count": null,
      "outputs": [
        {
          "output_type": "stream",
          "name": "stdout",
          "text": [
            "Accuracy Decision Tree Model: 93.170% (2.143%)\n"
          ]
        }
      ]
    },
    {
      "cell_type": "code",
      "source": [
        "kfold = KFold(n_splits=10,shuffle=True,random_state=42)\n",
        "model = gbt_model\n",
        "result = cross_val_score(model, X_new, y, cv=kfold, scoring='accuracy')\n",
        "print(\"Accuracy Gradient Boosting Model: %.3f%% (%.3f%%)\" % (result.mean()*100.0, result.std()*100.0))"
      ],
      "metadata": {
        "colab": {
          "base_uri": "https://localhost:8080/"
        },
        "id": "cF6NOrpirEA-",
        "outputId": "ab5a7bdd-8f91-48e0-e610-297cffac73d3"
      },
      "execution_count": null,
      "outputs": [
        {
          "output_type": "stream",
          "name": "stdout",
          "text": [
            "Accuracy Gradient Boosting Model: 83.057% (2.731%)\n"
          ]
        }
      ]
    }
  ]
}